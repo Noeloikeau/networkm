{
 "cells": [
  {
   "cell_type": "code",
   "execution_count": null,
   "metadata": {},
   "outputs": [],
   "source": [
    "# default_exp network"
   ]
  },
  {
   "cell_type": "markdown",
   "metadata": {},
   "source": [
    "# network\n",
    "\n",
    "> Operations on networkx MultiDiGraph objects, culminating in the `Network` class central to this package. "
   ]
  },
  {
   "cell_type": "code",
   "execution_count": null,
   "metadata": {},
   "outputs": [],
   "source": [
    "#hide\n",
    "from nbdev import *\n",
    "from nbdev.imports import *\n",
    "from nbdev.export import *\n",
    "from nbdev.sync import *\n",
    "from nbdev.showdoc import *"
   ]
  },
  {
   "cell_type": "code",
   "execution_count": null,
   "metadata": {},
   "outputs": [],
   "source": [
    "#hide\n",
    "%load_ext autoreload\n",
    "%autoreload 2"
   ]
  },
  {
   "cell_type": "code",
   "execution_count": null,
   "metadata": {},
   "outputs": [
    {
     "name": "stderr",
     "output_type": "stream",
     "text": [
      "C:\\Anaconda3\\lib\\site-packages\\numpy\\_distributor_init.py:32: UserWarning: loaded more than 1 DLL from .libs:\n",
      "C:\\Anaconda3\\lib\\site-packages\\numpy\\.libs\\libopenblas.NOIJJG62EMASZI6NYURL6JBKM4EVBGM7.gfortran-win_amd64.dll\n",
      "C:\\Anaconda3\\lib\\site-packages\\numpy\\.libs\\libopenblas.PYQHXLVVQ7VESDPUVUADXEVJOBGHJPAY.gfortran-win_amd64.dll\n",
      "  stacklevel=1)\n"
     ]
    }
   ],
   "source": [
    "#export\n",
    "import networkx as nx\n",
    "import numpy as np\n",
    "import sidis\n",
    "from sidis import get,give,sort,push,refresh,NOT,COPY,XOR\n",
    "import typing\n",
    "from typing import Optional, Tuple, Dict, Callable, Union, Mapping, Sequence, Iterable, Hashable, List, Any\n",
    "from collections import namedtuple"
   ]
  },
  {
   "cell_type": "code",
   "execution_count": null,
   "metadata": {},
   "outputs": [],
   "source": [
    "#export\n",
    "def ring(N : int = 3,\n",
    "         left : bool = True,\n",
    "         right : bool = False,\n",
    "         loop : bool = False):\n",
    "    '''\n",
    "    Return `g`, a ring topology networkx graph with `N` nodes.\n",
    "    Booleans `left`, `right`, `loop` determine the directed edges.\n",
    "    '''\n",
    "\n",
    "    g=nx.MultiDiGraph()\n",
    "\n",
    "    e=[]\n",
    "\n",
    "    if left:\n",
    "        e+=[(i,(i-1)%N) for i in range(N)]\n",
    "    if right:\n",
    "        e+=[(i,(i+1)%N) for i in range(N)]\n",
    "    if loop:\n",
    "        e+=[(i,i) for i in range(N)]\n",
    "\n",
    "    g.add_nodes_from([i for i in range(N)])\n",
    "    g.add_edges_from(e)\n",
    "\n",
    "    return g"
   ]
  },
  {
   "cell_type": "code",
   "execution_count": null,
   "metadata": {},
   "outputs": [],
   "source": [
    "g=ring(N=3,left=True,right=True,loop=True)"
   ]
  },
  {
   "cell_type": "code",
   "execution_count": null,
   "metadata": {},
   "outputs": [],
   "source": [
    "#export\n",
    "def adj(g : nx.MultiDiGraph, named=False):\n",
    "    '''\n",
    "    Returns list of (node, predecessors, successors) in list format.\n",
    "    If named, uses named tuple.\n",
    "    '''\n",
    "    if named:\n",
    "        t = namedtuple('Adj',['Node','In','Out'])\n",
    "        adj = [t(n, list(g.predecessors(n)), list(g.successors(n))) for n in g.nodes]\n",
    "    else:\n",
    "        adj = [[n, list(g.predecessors(n)), list(g.successors(n))] for n in g.nodes]\n",
    "    return adj"
   ]
  },
  {
   "cell_type": "code",
   "execution_count": null,
   "metadata": {},
   "outputs": [
    {
     "data": {
      "text/plain": [
       "[Adj(Node=0, In=[1, 2, 0], Out=[2, 1, 0]),\n",
       " Adj(Node=1, In=[2, 0, 1], Out=[0, 2, 1]),\n",
       " Adj(Node=2, In=[0, 1, 2], Out=[1, 0, 2])]"
      ]
     },
     "execution_count": null,
     "metadata": {},
     "output_type": "execute_result"
    }
   ],
   "source": [
    "adj(g, named=True)"
   ]
  },
  {
   "cell_type": "code",
   "execution_count": null,
   "metadata": {},
   "outputs": [],
   "source": [
    "#exporti\n",
    "def table(iterable : Iterable, header : Iterable[str]):\n",
    "    '''\n",
    "    Creates a simple ASCII table from an iterable and a header.\n",
    "    Modified from\n",
    "    https://stackoverflow.com/questions/5909873/how-can-i-pretty-print-ascii-tables-with-python\n",
    "    '''\n",
    "    max_len = [len(x) for x in header]\n",
    "    for row in iterable:\n",
    "        row = [row] if type(row) not in (list, tuple) else row\n",
    "        for index, col in enumerate(row):\n",
    "            if max_len[index] < len(str(col)):\n",
    "                max_len[index] = len(str(col))\n",
    "\n",
    "    output = '|' + ''.join([h + ' ' * (l - len(h)) + '|' for h, l in zip(header, max_len)]) + '\\n'\n",
    "\n",
    "    for row in iterable:\n",
    "        row = [row] if type(row) not in (list, tuple) else row\n",
    "        output += '|' + ''.join([str(c) + ' ' * (l - len(str(c))) + '|' for c, l in zip(row, max_len)]) + '\\n'\n",
    "\n",
    "    return output\n"
   ]
  },
  {
   "cell_type": "code",
   "execution_count": null,
   "metadata": {},
   "outputs": [],
   "source": [
    "#export\n",
    "def print_graph(g : nx.MultiDiGraph,\n",
    "               string=False):\n",
    "    '''\n",
    "    Print the 'node', predecessors', and 'successors' for every node in graph `g`.\n",
    "    The predecessors are the nodes flowing into a node, \n",
    "    and the successors are the nodes flowing out.\n",
    "    \n",
    "    Example use:\n",
    "        g=ring(N=3,left=True,right=True,loop=True)\n",
    "        print_graph(g)\n",
    "    '''\n",
    "    data = adj(g)\n",
    "    for i in range(len(data)):\n",
    "        data[i][1]=', '.join([str(i) for i in data[i][1]])\n",
    "        data[i][2]=', '.join([str(i) for i in data[i][2]])\n",
    "\n",
    "    header=['Node', 'Predecessors', 'Successors']\n",
    "    \n",
    "    if not string:\n",
    "        print(table(data,header))\n",
    "    else:\n",
    "        return table(data,header)\n"
   ]
  },
  {
   "cell_type": "code",
   "execution_count": null,
   "metadata": {},
   "outputs": [
    {
     "name": "stdout",
     "output_type": "stream",
     "text": [
      "|Node|Predecessors|Successors|\n",
      "|0   |1, 2, 0     |2, 1, 0   |\n",
      "|1   |2, 0, 1     |0, 2, 1   |\n",
      "|2   |0, 1, 2     |1, 0, 2   |\n",
      "\n"
     ]
    }
   ],
   "source": [
    "print_graph(g)"
   ]
  },
  {
   "cell_type": "code",
   "execution_count": null,
   "metadata": {},
   "outputs": [],
   "source": [
    "#export\n",
    "def parse_kwargs(**kwargs):\n",
    "    '''\n",
    "    Evaluate delayed function calls by assigning \n",
    "    attributes as (func, *arg) tuples.\n",
    "    Parse keyword arguments with the convention that\n",
    "    kwarg = tuple ( callable , *args) be returned as\n",
    "    kwarg = callable ( *args). \n",
    "    Example: kwargs = {a : (np.random.random,1)}\n",
    "    becomes  kwargs = {a : np.random.random(1)} \n",
    "    each time this func is called.\n",
    "    '''\n",
    "    newkwargs={k:v for k,v in kwargs.items()}\n",
    "    for k,v in kwargs.items():\n",
    "        if type(v) is tuple and callable(v[0]):\n",
    "            if len(v)==1:\n",
    "                newkwargs[k]=v[0]()\n",
    "            else:\n",
    "                newkwargs[k]=v[0](*v[1:])\n",
    "    return newkwargs"
   ]
  },
  {
   "cell_type": "code",
   "execution_count": null,
   "metadata": {},
   "outputs": [
    {
     "data": {
      "text/plain": [
       "{'a': array([0.39487206])}"
      ]
     },
     "execution_count": null,
     "metadata": {},
     "output_type": "execute_result"
    }
   ],
   "source": [
    "parse_kwargs(a = (np.random.random,1) ) #evaluate func"
   ]
  },
  {
   "cell_type": "code",
   "execution_count": null,
   "metadata": {},
   "outputs": [
    {
     "data": {
      "text/plain": [
       "{'a': array([0.82915321])}"
      ]
     },
     "execution_count": null,
     "metadata": {},
     "output_type": "execute_result"
    }
   ],
   "source": [
    "parse_kwargs(a = (np.random.random,1) ) #call again; diff result"
   ]
  },
  {
   "cell_type": "code",
   "execution_count": null,
   "metadata": {},
   "outputs": [
    {
     "data": {
      "text/plain": [
       "{'b': 1, 'a': <function RandomState.random>}"
      ]
     },
     "execution_count": null,
     "metadata": {},
     "output_type": "execute_result"
    }
   ],
   "source": [
    "parse_kwargs(b=1, a = np.random.random) #no arg"
   ]
  },
  {
   "cell_type": "code",
   "execution_count": null,
   "metadata": {},
   "outputs": [
    {
     "data": {
      "text/plain": [
       "{'b': 1, 'a': 0.30381956973271806}"
      ]
     },
     "execution_count": null,
     "metadata": {},
     "output_type": "execute_result"
    }
   ],
   "source": [
    "parse_kwargs(b=1, a = (np.random.random,) ) #default arg"
   ]
  },
  {
   "cell_type": "code",
   "execution_count": null,
   "metadata": {},
   "outputs": [],
   "source": [
    "#export\n",
    "def give_nodes(g : nx.MultiDiGraph,\n",
    "               data : Dict[Hashable,dict] = None,\n",
    "               nodes : Iterable = None,\n",
    "               **kwargs):\n",
    "    '''\n",
    "    Parse and apply any 'kwargs' to a set of 'nodes'.\n",
    "    If given, 'data' is a dict-of-dicts keyed by node.\n",
    "    The inner dict is given to the corresponding node.\n",
    "    '''\n",
    "    if nodes is None:\n",
    "        nodes=g.nodes\n",
    "    \n",
    "    if kwargs:\n",
    "        [sidis.give(g.nodes[n],**parse_kwargs(**kwargs)) for n in nodes]\n",
    "    \n",
    "    if data:\n",
    "        for k,v in data.items():\n",
    "            try:\n",
    "                g.nodes[k].update(parse_kwargs(**v))\n",
    "            except KeyError:\n",
    "                pass\n"
   ]
  },
  {
   "cell_type": "code",
   "execution_count": null,
   "metadata": {},
   "outputs": [
    {
     "data": {
      "text/plain": [
       "NodeDataView({0: {'a': array([0.3092636])}, 1: {'a': array([0.38798102])}, 2: {'a': array([0.40887628])}})"
      ]
     },
     "execution_count": null,
     "metadata": {},
     "output_type": "execute_result"
    }
   ],
   "source": [
    "give_nodes(g,a=(np.random.random,1))\n",
    "g.nodes(data=True)"
   ]
  },
  {
   "cell_type": "code",
   "execution_count": null,
   "metadata": {},
   "outputs": [
    {
     "data": {
      "text/plain": [
       "NodeDataView({0: {'a': array([0.3092636]), 'b': 1}, 1: {'a': array([0.38798102])}, 2: {'a': array([0.40887628])}})"
      ]
     },
     "execution_count": null,
     "metadata": {},
     "output_type": "execute_result"
    }
   ],
   "source": [
    "give_nodes(g,{0:dict(b=1)})\n",
    "g.nodes(data=True)"
   ]
  },
  {
   "cell_type": "code",
   "execution_count": null,
   "metadata": {},
   "outputs": [
    {
     "data": {
      "text/plain": [
       "NodeDataView({0: {'a': array([0.3092636]), 'b': 1}, 1: {'a': array([0.38798102])}, 2: {'a': array([0.40887628]), 'c': 2}})"
      ]
     },
     "execution_count": null,
     "metadata": {},
     "output_type": "execute_result"
    }
   ],
   "source": [
    "give_nodes(g,nodes=[2],c=2)\n",
    "g.nodes(data=True)"
   ]
  },
  {
   "cell_type": "code",
   "execution_count": null,
   "metadata": {},
   "outputs": [],
   "source": [
    "#export\n",
    "def parse_edges(edges : Union[tuple,List[tuple]], \n",
    "                default_key : Hashable = 0\n",
    "               ):\n",
    "    '''\n",
    "    Parse a single edge or list of edges\n",
    "    into a list of 3-tuples for iterating over \n",
    "    a MultiDiGraph, which requires keys. \n",
    "    '''\n",
    "    if type(edges) is tuple:\n",
    "        edges=[edges]\n",
    "    if type(edges) is not list:\n",
    "        edges=list(edges)\n",
    "    for i in range(len(edges)):\n",
    "        if len(edges[i])==4: #discard data, last entry\n",
    "            edges[i]=(edges[i][0],edges[i][1],edges[i][2])\n",
    "        if len(edges[i])==2: #include key, 3rd entry\n",
    "            edges[i]=(edges[i][0],edges[i][1],default_key)\n",
    "    return edges"
   ]
  },
  {
   "cell_type": "code",
   "execution_count": null,
   "metadata": {},
   "outputs": [
    {
     "data": {
      "text/plain": [
       "[(0, 0, 0)]"
      ]
     },
     "execution_count": null,
     "metadata": {},
     "output_type": "execute_result"
    }
   ],
   "source": [
    "parse_edges( (0,0) )"
   ]
  },
  {
   "cell_type": "code",
   "execution_count": null,
   "metadata": {},
   "outputs": [],
   "source": [
    "#export\n",
    "def give_edges(g : nx.MultiDiGraph,\n",
    "               data : Dict[Hashable,dict] = None,\n",
    "               edges : Iterable = None,\n",
    "               **kwargs):\n",
    "    '''\n",
    "    Parse and apply any 'kwargs' to a set of 'edges'.\n",
    "    If given, 'data' is a dict-of-dicts keyed by edge.\n",
    "    The inner dict is given to the corresponding edge.\n",
    "    '''\n",
    "    if edges is None:\n",
    "        edges=g.edges\n",
    "        \n",
    "    edges = parse_edges(edges)\n",
    "    \n",
    "    if kwargs:\n",
    "        [sidis.give(g.edges[e],**parse_kwargs(**kwargs)) for e in edges]\n",
    "    \n",
    "    if data:\n",
    "        for k,v in data.items():\n",
    "            try:\n",
    "                g.edges[k].update(parse_kwargs(**v))\n",
    "            except KeyError:\n",
    "                pass"
   ]
  },
  {
   "cell_type": "code",
   "execution_count": null,
   "metadata": {},
   "outputs": [
    {
     "data": {
      "text/plain": [
       "OutMultiEdgeDataView([(0, 2, {'d': 1}), (0, 1, {'d': 1}), (0, 0, {'d': 1}), (1, 0, {'d': 1}), (1, 2, {'d': 1}), (1, 1, {'d': 1}), (2, 1, {'d': 1}), (2, 0, {'d': 1}), (2, 2, {'d': 1})])"
      ]
     },
     "execution_count": null,
     "metadata": {},
     "output_type": "execute_result"
    }
   ],
   "source": [
    "give_edges(g,d=1)\n",
    "g.edges(data=True)"
   ]
  },
  {
   "cell_type": "code",
   "execution_count": null,
   "metadata": {},
   "outputs": [],
   "source": [
    "#export\n",
    "def node_attrs(g):\n",
    "    '''\n",
    "    Unique node data keys.\n",
    "    '''\n",
    "    return list(set(sidis.flatten([list(t[-1].keys())\n",
    "                        for t in list(g.nodes(data=True))])))"
   ]
  },
  {
   "cell_type": "code",
   "execution_count": null,
   "metadata": {},
   "outputs": [
    {
     "data": {
      "text/plain": [
       "['b', 'a', 'c']"
      ]
     },
     "execution_count": null,
     "metadata": {},
     "output_type": "execute_result"
    }
   ],
   "source": [
    "node_attrs(g)"
   ]
  },
  {
   "cell_type": "code",
   "execution_count": null,
   "metadata": {},
   "outputs": [],
   "source": [
    "#export\n",
    "def edge_attrs(g):\n",
    "    '''\n",
    "    Unique edge data keys.\n",
    "    '''\n",
    "    return list(set(sidis.flatten([list(t[-1].keys())\n",
    "                        for t in list(g.edges(data=True))])))"
   ]
  },
  {
   "cell_type": "code",
   "execution_count": null,
   "metadata": {},
   "outputs": [
    {
     "data": {
      "text/plain": [
       "['d']"
      ]
     },
     "execution_count": null,
     "metadata": {},
     "output_type": "execute_result"
    }
   ],
   "source": [
    "edge_attrs(g)"
   ]
  },
  {
   "cell_type": "code",
   "execution_count": null,
   "metadata": {},
   "outputs": [],
   "source": [
    "#export\n",
    "def node_data(g,*args):\n",
    "    '''\n",
    "    Return node attributes 'args' as an array.\n",
    "    NOTE: The ordering of the array corresponds to the\n",
    "    ordering of the nodes in the graph.\n",
    "    '''\n",
    "    if not args:\n",
    "        args=node_attrs(g)\n",
    "\n",
    "    node_data={}\n",
    "\n",
    "    [sidis.give(node_data,str(arg), np.squeeze(np.array([sidis.get(g.nodes[n],arg) for n in g.nodes])))\n",
    "        for arg in args]\n",
    "\n",
    "    return node_data"
   ]
  },
  {
   "cell_type": "code",
   "execution_count": null,
   "metadata": {},
   "outputs": [
    {
     "data": {
      "text/plain": [
       "{'b': array([1, None, None], dtype=object),\n",
       " 'a': array([0.3092636 , 0.38798102, 0.40887628]),\n",
       " 'c': array([None, None, 2], dtype=object)}"
      ]
     },
     "execution_count": null,
     "metadata": {},
     "output_type": "execute_result"
    }
   ],
   "source": [
    "node_data(g)"
   ]
  },
  {
   "cell_type": "code",
   "execution_count": null,
   "metadata": {},
   "outputs": [],
   "source": [
    "#export\n",
    "def edge_data(g,*args):\n",
    "    '''\n",
    "    Return edge attributes 'args' as an array.\n",
    "    NOTE: The ordering of the array corresponds to the\n",
    "    ordering of the edges in the graph.\n",
    "    '''\n",
    "    if not args:\n",
    "        args=edge_attrs(g)\n",
    "\n",
    "    edge_data={}\n",
    "\n",
    "    [sidis.give(edge_data,str(arg), np.array([sidis.get(g.edges[e],arg) for e in g.edges]))\n",
    "        for arg in args]\n",
    "\n",
    "    return edge_data"
   ]
  },
  {
   "cell_type": "code",
   "execution_count": null,
   "metadata": {},
   "outputs": [
    {
     "data": {
      "text/plain": [
       "{'d': array([1, 1, 1, 1, 1, 1, 1, 1, 1])}"
      ]
     },
     "execution_count": null,
     "metadata": {},
     "output_type": "execute_result"
    }
   ],
   "source": [
    "edge_data(g)"
   ]
  },
  {
   "cell_type": "code",
   "execution_count": null,
   "metadata": {},
   "outputs": [],
   "source": [
    "#export\n",
    "def argwhere(*args : List[np.ndarray]):\n",
    "    '''\n",
    "    Simplified version of np.argwhere for multiple arrays.\n",
    "    Returns list of indices where args hold.\n",
    "    '''\n",
    "    if not args:\n",
    "        return None\n",
    "    elif len(args)==1:\n",
    "        return list(np.ravel(np.argwhere(args[0])).astype(int))\n",
    "    else:\n",
    "        i=[] #indices\n",
    "        for arg in args:\n",
    "            res=list(np.ravel(np.argwhere(arg)).astype(int))\n",
    "            i+=[res]\n",
    "        if len(i)==1:\n",
    "            i=i[0]\n",
    "        if np.any(i):\n",
    "            return list(i)"
   ]
  },
  {
   "cell_type": "code",
   "execution_count": null,
   "metadata": {},
   "outputs": [
    {
     "name": "stderr",
     "output_type": "stream",
     "text": [
      "C:\\Anaconda3\\lib\\site-packages\\numpy\\core\\fromnumeric.py:87: VisibleDeprecationWarning: Creating an ndarray from ragged nested sequences (which is a list-or-tuple of lists-or-tuples-or ndarrays with different lengths or shapes) is deprecated. If you meant to do this, you must specify 'dtype=object' when creating the ndarray\n",
      "  return ufunc.reduce(obj, axis, dtype, out, **passkwargs)\n"
     ]
    },
    {
     "data": {
      "text/plain": [
       "[[0], [1], [2], []]"
      ]
     },
     "execution_count": null,
     "metadata": {},
     "output_type": "execute_result"
    }
   ],
   "source": [
    "a=np.array([0,1,2])\n",
    "argwhere(a==0,a==1,a>1,a==10)"
   ]
  },
  {
   "cell_type": "code",
   "execution_count": null,
   "metadata": {},
   "outputs": [],
   "source": [
    "#export\n",
    "def kwargwhere(g : nx.MultiDiGraph,**kwargs : Dict[str,Any]):\n",
    "    '''\n",
    "    Return the node and edges where\n",
    "    the kwarg equalities hold in the graph.\n",
    "    '''\n",
    "    node_k=node_attrs(g)\n",
    "    edge_k=edge_attrs(g)\n",
    "    node_i=[]\n",
    "    edge_i=[]\n",
    "    for k,v in kwargs.items():\n",
    "        n_i=[]\n",
    "        e_i=[]\n",
    "        if k in node_k:\n",
    "            for n in g.nodes:\n",
    "                if g.nodes[n].get(k)==v:\n",
    "                    n_i+=[n]\n",
    "            node_i+=[n_i]\n",
    "        if k in edge_k:\n",
    "            for e in g.edges:\n",
    "                if g.edges[e].get(k)==v:\n",
    "                    e_i+=[e]\n",
    "            edge_i+=[e_i]\n",
    "\n",
    "    if len(node_i)==1:\n",
    "        node_i=node_i[0]\n",
    "    if len(edge_i)==1:\n",
    "        edge_i=edge_i[0]\n",
    "    if node_i and edge_i:\n",
    "        return node_i,edge_i\n",
    "    elif node_i:\n",
    "        return node_i\n",
    "    elif edge_i:\n",
    "        return edge_i"
   ]
  },
  {
   "cell_type": "code",
   "execution_count": null,
   "metadata": {},
   "outputs": [
    {
     "name": "stdout",
     "output_type": "stream",
     "text": [
      "[(0, {'a': array([0.3092636]), 'b': 1}), (1, {'a': array([0.38798102])}), (2, {'a': array([0.40887628]), 'c': 2})]\n"
     ]
    }
   ],
   "source": [
    "print(g.nodes(data=True))"
   ]
  },
  {
   "cell_type": "code",
   "execution_count": null,
   "metadata": {},
   "outputs": [
    {
     "data": {
      "text/plain": [
       "[0]"
      ]
     },
     "execution_count": null,
     "metadata": {},
     "output_type": "execute_result"
    }
   ],
   "source": [
    "kwargwhere(g,b=1)"
   ]
  },
  {
   "cell_type": "code",
   "execution_count": null,
   "metadata": {},
   "outputs": [
    {
     "data": {
      "text/plain": [
       "[(0, 2, 0),\n",
       " (0, 1, 0),\n",
       " (0, 0, 0),\n",
       " (1, 0, 0),\n",
       " (1, 2, 0),\n",
       " (1, 1, 0),\n",
       " (2, 1, 0),\n",
       " (2, 0, 0),\n",
       " (2, 2, 0)]"
      ]
     },
     "execution_count": null,
     "metadata": {},
     "output_type": "execute_result"
    }
   ],
   "source": [
    "kwargwhere(g,d=1)"
   ]
  },
  {
   "cell_type": "code",
   "execution_count": null,
   "metadata": {},
   "outputs": [
    {
     "name": "stdout",
     "output_type": "stream",
     "text": [
      "[(0, 2, {'d': 1}), (0, 1, {'d': 1}), (0, 0, {'d': 1, 'b': 1}), (1, 0, {'d': 1}), (1, 2, {'d': 1}), (1, 1, {'d': 1}), (2, 1, {'d': 1}), (2, 0, {'d': 1}), (2, 2, {'d': 1})]\n"
     ]
    }
   ],
   "source": [
    "g.edges[(0,0,0)]['b']=1\n",
    "print(g.edges(data=True))"
   ]
  },
  {
   "cell_type": "code",
   "execution_count": null,
   "metadata": {},
   "outputs": [
    {
     "data": {
      "text/plain": [
       "([0], [(0, 0, 0)])"
      ]
     },
     "execution_count": null,
     "metadata": {},
     "output_type": "execute_result"
    }
   ],
   "source": [
    "kwargwhere(g,b=1)"
   ]
  },
  {
   "cell_type": "code",
   "execution_count": null,
   "metadata": {},
   "outputs": [],
   "source": [
    "#export\n",
    "def where(g,*args,**kwargs):\n",
    "    '''\n",
    "    Combine the 'argwhere' and 'kwargwhere' functions for the graph.\n",
    "    '''\n",
    "    arg_i=argwhere(*args)\n",
    "    kwarg_i=kwargwhere(g,**kwargs)\n",
    "    if arg_i and kwarg_i:\n",
    "        return arg_i,kwarg_i\n",
    "    elif arg_i:\n",
    "        return arg_i\n",
    "    elif kwarg_i:\n",
    "        return kwarg_i"
   ]
  },
  {
   "cell_type": "code",
   "execution_count": null,
   "metadata": {},
   "outputs": [
    {
     "data": {
      "text/plain": [
       "([0], [(0, 0, 0)])"
      ]
     },
     "execution_count": null,
     "metadata": {},
     "output_type": "execute_result"
    }
   ],
   "source": [
    "where(g,node_data(g)['a']>0.5,b=1)"
   ]
  },
  {
   "cell_type": "code",
   "execution_count": null,
   "metadata": {},
   "outputs": [],
   "source": [
    "#export\n",
    "def parse_lengths(g : nx.MultiDiGraph,\n",
    "                  edges : Union[tuple,List[tuple]],\n",
    "                  lengths : Union[str,int,List[int]] = 1) -> Union[list,List[list]]:\n",
    "    '''\n",
    "    Convert `lengths` corresponding to attributes of each edge into a list of lists.\n",
    "    `lengths` can be a single integer, an integer for each edge, or a string\n",
    "    giving the edge attribute holding the length.\n",
    "    '''\n",
    "    if type(lengths) is int:\n",
    "        lengths=[lengths for i in range(len(edges))]\n",
    "    elif type(lengths) is str:\n",
    "        lengths=[g.edges[e][lengths] for e in edges]\n",
    "    return lengths"
   ]
  },
  {
   "cell_type": "code",
   "execution_count": null,
   "metadata": {},
   "outputs": [],
   "source": [
    "#export\n",
    "def edge_to_line(g : nx.MultiDiGraph,\n",
    "                   edges : Union[tuple,List[tuple]],\n",
    "                   lengths : Union[str,int,List[int]] = 1,\n",
    "                   labels : callable = lambda g,edge,length,accum : len(list(g.nodes))+accum\n",
    "                  ) -> Union[list,List[list]]:\n",
    "    '''\n",
    "    Convert an edge or list of edges with a line path (or list of line paths),\n",
    "    which directly connect the previous endpoints of the edge through new nodes.\n",
    "    Every edge is replaced with 'length' number of new nodes,\n",
    "    which may be an integer or list of integers corresponding to the\n",
    "    edge or list of edges. These new nodes take the name from `labels`,\n",
    "    which default to the number of nodes in the graph after each addition.\n",
    "    Returns the paths as lists of node labels.\n",
    "    '''\n",
    "    #parse args\n",
    "    edges=parse_edges(edges)\n",
    "    lengths=parse_lengths(g,edges,lengths)\n",
    "    #generate line paths\n",
    "    lines=[[] for l in lengths]\n",
    "    accum=0\n",
    "    for i,edge in enumerate(edges):\n",
    "        for length in range(lengths[i]):\n",
    "            accum+=length #new node within path\n",
    "            lines[i]+=[labels(g=g,edge=edge,length=length,accum=accum)]\n",
    "        accum+=1 #increment with new node starting new edge path\n",
    "    return [[e[0]]+lines[i]+[e[1]] for i,e in enumerate(edges)]\n",
    "\n"
   ]
  },
  {
   "cell_type": "code",
   "execution_count": null,
   "metadata": {},
   "outputs": [
    {
     "name": "stdout",
     "output_type": "stream",
     "text": [
      "[(0, 2), (0, 1)]\n"
     ]
    },
    {
     "data": {
      "text/plain": [
       "[[0, 3, 4, 2], [0, 5, 6, 1]]"
      ]
     },
     "execution_count": null,
     "metadata": {},
     "output_type": "execute_result"
    }
   ],
   "source": [
    "g=ring(left=True,right=True)\n",
    "edges=g.out_edges(0)\n",
    "print(edges)\n",
    "edge_to_line(g,edges,lengths=2)"
   ]
  },
  {
   "cell_type": "code",
   "execution_count": null,
   "metadata": {},
   "outputs": [
    {
     "data": {
      "text/plain": [
       "[[0, (0, 2, 0), (0, 2, 1), 2], [0, (0, 1, 0), (0, 1, 1), 1]]"
      ]
     },
     "execution_count": null,
     "metadata": {},
     "output_type": "execute_result"
    }
   ],
   "source": [
    "edge_to_line(g,edges,lengths=2,labels=lambda g,edge,length,accum: (edge[0],edge[1],length))"
   ]
  },
  {
   "cell_type": "code",
   "execution_count": null,
   "metadata": {},
   "outputs": [
    {
     "data": {
      "text/plain": [
       "[[0, 2], [1, 4, 0], [2, 5, 6, 1]]"
      ]
     },
     "execution_count": null,
     "metadata": {},
     "output_type": "execute_result"
    }
   ],
   "source": [
    "g=ring(left=True)\n",
    "edge_to_line(g,g.edges,lengths=[0,1,2])"
   ]
  },
  {
   "cell_type": "code",
   "execution_count": null,
   "metadata": {},
   "outputs": [],
   "source": [
    "#export\n",
    "def edge_to_tree(g,\n",
    "                 edges : Union[tuple,List[tuple]],\n",
    "                 lengths : Union[str,int,List[int]] = 1,\n",
    "                 labels : Dict[str,callable] = {\n",
    "                    'trunk' : lambda g,root,leaves,accum : len(list(g.nodes))+accum,\n",
    "                    'branch' : lambda g,trunk,root,leaf,length : trunk+length\n",
    "                 }\n",
    "                ) -> Union[list,List[list]]:\n",
    "    '''\n",
    "    Convert an edge or list of edges with a tree path (or list of tree paths),\n",
    "    which connect the previous endpoints of the edge through new nodes.\n",
    "    The new nodes have a tree structure, consolidating shared base nodes.\n",
    "    Every edge is replaced with a path of 'length' number of nodes,\n",
    "    which may be an integer or list of integers corresponding to the\n",
    "    edge or list of edges. These nodes take the name from `labels`,\n",
    "    which default to the number of nodes in the graph after each addition.\n",
    "    Returns the paths as lists of node labels.\n",
    "    '''\n",
    "    #parse args\n",
    "    trunk_label,branch_label = labels['trunk'],labels['branch']\n",
    "    edges=parse_edges(edges)\n",
    "    lengths=parse_lengths(g,edges,lengths)\n",
    "    #get roots (first node in edges) and leaves (2nd node in edge)\n",
    "    roots = [e[0] for e in edges]\n",
    "    leaves = [e[1] for e in edges]\n",
    "    #get outputs of each root, for optional labeling purposes only\n",
    "    leaves_with_root = {r:[e[1] for e in edges if e[0]==r] for r in roots}\n",
    "    #get max path length associated with each root, used to grow tree trunk that branch paths split off from\n",
    "    max_lengths = {r:max([lengths[i] for i,e in enumerate(edges) if e[0]==r]) for r in roots}\n",
    "    accum=0\n",
    "    trunks={}\n",
    "    #grow trunks\n",
    "    for i,r in enumerate(set(roots)):\n",
    "        trunks[r]=trunk_label(g=g,root=r,leaves=leaves_with_root[r],accum=accum)\n",
    "        accum+=max_lengths[r]\n",
    "    trunks = [trunks[r] for r in roots]\n",
    "    #give branch paths\n",
    "    branches = [[branch_label(g=g,trunk=trunks[i],length=l,root=r,leaf=leaves[i]) for l in range(1,lengths[i])] \n",
    "                for i,r in enumerate(roots)]\n",
    "    #grow trees (list of paths)\n",
    "    trees = [[root]+[trunk]+branch+[leaf] for root,trunk,branch,leaf in zip(roots,trunks,branches,leaves)]\n",
    "    return trees"
   ]
  },
  {
   "cell_type": "code",
   "execution_count": null,
   "metadata": {},
   "outputs": [
    {
     "data": {
      "text/plain": [
       "[[0, 3, 4, 2], [0, 3, 4, 1]]"
      ]
     },
     "execution_count": null,
     "metadata": {},
     "output_type": "execute_result"
    }
   ],
   "source": [
    "g=ring(left=True,right=True)\n",
    "edge_to_tree(g,g.out_edges(0),lengths=2) #compare to line, which produces new node in 2nd path"
   ]
  },
  {
   "cell_type": "code",
   "execution_count": null,
   "metadata": {},
   "outputs": [
    {
     "data": {
      "text/plain": [
       "[[0, [2, 1], [2, 1, 1], 2], [0, [2, 1], [2, 1, 1], 1]]"
      ]
     },
     "execution_count": null,
     "metadata": {},
     "output_type": "execute_result"
    }
   ],
   "source": [
    "edge_to_tree(g,g.out_edges(0),\n",
    "               lengths=2,\n",
    "               labels=dict(\n",
    "               trunk=lambda g,root,leaves,accum : leaves,\n",
    "               branch=lambda g,trunk,root,leaf,length : trunk+[length]\n",
    "               )\n",
    "              )"
   ]
  },
  {
   "cell_type": "code",
   "execution_count": null,
   "metadata": {},
   "outputs": [
    {
     "name": "stdout",
     "output_type": "stream",
     "text": [
      "[(0, 2, {'weight': 0}), (0, 1, {'weight': 0}), (1, 0, {'weight': 1}), (1, 2, {'weight': 1}), (2, 1, {'weight': 2}), (2, 0, {'weight': 2})]\n"
     ]
    }
   ],
   "source": [
    "for i,n in enumerate(g.nodes):\n",
    "    for e in g.out_edges(n,keys=True):\n",
    "        g.edges[e]['weight']=i\n",
    "print(g.edges(data=True))"
   ]
  },
  {
   "cell_type": "code",
   "execution_count": null,
   "metadata": {},
   "outputs": [
    {
     "data": {
      "text/plain": [
       "[[0, 3, 2], [0, 3, 1], [1, 3, 0], [1, 3, 2], [2, 4, 5, 1], [2, 4, 5, 0]]"
      ]
     },
     "execution_count": null,
     "metadata": {},
     "output_type": "execute_result"
    }
   ],
   "source": [
    "edge_to_tree(g,g.edges,lengths='weight')"
   ]
  },
  {
   "cell_type": "code",
   "execution_count": null,
   "metadata": {},
   "outputs": [],
   "source": [
    "#export\n",
    "def convert_edges_to_paths(g : nx.MultiDiGraph,\n",
    "                 edges : Union[tuple,List[tuple]],\n",
    "                 paths : Union[list,List[list],callable] = edge_to_tree,\n",
    "                 lengths : Union[int,List[int]] = 1,\n",
    "                 labels : Union[None,callable,Dict[str,callable]] = None,\n",
    "                 node_attrs : Union[dict,List[dict]] = {},\n",
    "                 return_paths = False,\n",
    "                 **edge_attrs\n",
    "                ) -> None:\n",
    "    '''\n",
    "    Modify a graph in place by converting `edges` to `paths` of new nodes.\n",
    "    `paths` may be a list of paths or a callable producing those paths.\n",
    "    If a callable, the arguments must be `edges`, `lengths`, and `labels`.\n",
    "    See `edge_to_line` and `edge_to_tree` for descriptions on callables.\n",
    "    The new nodes inherit `node_attrs`, which may be a list, and every new \n",
    "    edge inherits `edge_attrs`, which applies to all edges. \n",
    "    '''\n",
    "    #parse attributes\n",
    "    edges=parse_edges(edges)\n",
    "    \n",
    "    if callable(paths):\n",
    "        if labels is None:\n",
    "            paths = paths(g,edges=edges,lengths=lengths)\n",
    "        else:\n",
    "            paths = paths(g,edges=edges,lengths=lengths,labels=labels)\n",
    "            \n",
    "    if sidis.depth(paths)!=2: #ensure it's iterable!\n",
    "        paths=[paths]\n",
    "        \n",
    "    for i in range(len(paths)): #ensure endpoints are endpoints of edges\n",
    "        start,stop=edges[i][0],edges[i][1]\n",
    "        if paths[i][0]!=start:\n",
    "            paths[i]=[start]+paths[i]\n",
    "        if paths[i][-1]!=stop:\n",
    "            paths[i]=paths[i]+[stop]\n",
    "        \n",
    "    if type(node_attrs) is not list: #ensure attrs match each node in path\n",
    "        node_attrs=[[parse_kwargs(**node_attrs) for i in range(len(path))] for path in paths]\n",
    "    \n",
    "    #modification algorithm\n",
    "    for i,edge in enumerate(list(edges)):\n",
    "        path=paths[i]\n",
    "\n",
    "        new_nodes=path[1:-1]\n",
    "\n",
    "        nx.add_path(g,path,**parse_kwargs(**edge_attrs))\n",
    "\n",
    "        g.remove_edge(*edge)\n",
    "        for j,n in enumerate(new_nodes):\n",
    "   \n",
    "            give_nodes(g,nodes=[n],data=node_attrs[i][j],**node_attrs[i][j]) #attrs keyed by node, or k,v pairs\n",
    "    \n",
    "    if return_paths:\n",
    "        return paths\n",
    "\n"
   ]
  },
  {
   "cell_type": "code",
   "execution_count": null,
   "metadata": {},
   "outputs": [
    {
     "name": "stdout",
     "output_type": "stream",
     "text": [
      "|Node|Predecessors|Successors|\n",
      "|0   |1, 2        |2, 1      |\n",
      "|1   |2, 0        |0, 2      |\n",
      "|2   |0, 1        |1, 0      |\n",
      "\n",
      "|Node|Predecessors|Successors|\n",
      "|0   |4, 5        |3         |\n",
      "|1   |3, 5        |4         |\n",
      "|2   |3, 4        |5         |\n",
      "|3   |0           |2, 1      |\n",
      "|4   |1           |0, 2      |\n",
      "|5   |2           |1, 0      |\n",
      "\n"
     ]
    }
   ],
   "source": [
    "g=ring(left=True,right=True)\n",
    "print_graph(g)\n",
    "convert_edges_to_paths(g,edges=g.edges,paths=edge_to_tree,lengths=1)\n",
    "print_graph(g)"
   ]
  },
  {
   "cell_type": "code",
   "execution_count": null,
   "metadata": {},
   "outputs": [
    {
     "name": "stdout",
     "output_type": "stream",
     "text": [
      "|Node|Predecessors|Successors|\n",
      "|0   |1           |2         |\n",
      "|1   |2           |0         |\n",
      "|2   |0           |1         |\n",
      "\n",
      "|Node    |Predecessors|Successors|\n",
      "|0       |1           |whatever  |\n",
      "|1       |2           |0         |\n",
      "|2       |want        |1         |\n",
      "|whatever|0           |we        |\n",
      "|we      |whatever    |want      |\n",
      "|want    |we          |2         |\n",
      "\n"
     ]
    }
   ],
   "source": [
    "g=ring(left=True)\n",
    "print_graph(g)\n",
    "edges=list(g.out_edges(0))\n",
    "convert_edges_to_paths(g,edges=edges,paths=['whatever','we','want'])\n",
    "print_graph(g)"
   ]
  },
  {
   "cell_type": "code",
   "execution_count": null,
   "metadata": {},
   "outputs": [],
   "source": [
    "#export\n",
    "def convert_paths_to_edges(g : nx.MultiDiGraph,\n",
    "                   paths : Union[list,List[list]],\n",
    "                   return_edges = False,\n",
    "                   **edge_attrs) -> None:\n",
    "    '''\n",
    "    Modify a graph in place by converting `paths` to edges between the \n",
    "    endpoints of those paths. Every new edge inherits `edge_attrs`.\n",
    "    Acts as the invertse of `convert_edges_to_paths`.\n",
    "    '''\n",
    "    #parse args\n",
    "    if sidis.depth(paths)==1:\n",
    "        paths=[paths]\n",
    "    \n",
    "    #modify in place\n",
    "    all_edges = []\n",
    "    for path in paths:\n",
    "        left=path[0]\n",
    "        right=path[-1]\n",
    "        #see networkx docs for this, produces list of edges connecting nodes in chain\n",
    "        edges=list(nx.utils.pairwise(nx.utils.chain((left,), path)))\n",
    "        all_edges+=[edges]\n",
    "        g.remove_edges_from(edges)\n",
    "        links=path[1:-1]\n",
    "        g.add_edge(left,right,**edge_attrs)\n",
    "        for node in links:\n",
    "            if not g.in_edges(node) and not g.out_edges(node):\n",
    "                g.remove_node(node)\n",
    "    if return_edges:\n",
    "        return all_edges"
   ]
  },
  {
   "cell_type": "code",
   "execution_count": null,
   "metadata": {},
   "outputs": [
    {
     "name": "stdout",
     "output_type": "stream",
     "text": [
      "graph before conversion\n",
      "|Node|Predecessors|Successors|\n",
      "|0   |1           |2         |\n",
      "|1   |2           |0         |\n",
      "|2   |0           |1         |\n",
      "\n",
      "edges to convert [(0, 2, 0)]\n",
      "paths from edges [[0, 3, 2]] \n",
      "\n",
      "graph after converting edges to paths\n",
      "|Node|Predecessors|Successors|\n",
      "|0   |1           |3         |\n",
      "|1   |2           |0         |\n",
      "|2   |3           |1         |\n",
      "|3   |0           |2         |\n",
      "\n",
      "graph after converting paths to edges, same as original\n",
      "|Node|Predecessors|Successors|\n",
      "|0   |1           |2         |\n",
      "|1   |2           |0         |\n",
      "|2   |0           |1         |\n",
      "\n"
     ]
    }
   ],
   "source": [
    "g=ring(left=True)\n",
    "print('graph before conversion')\n",
    "print_graph(g)\n",
    "edges=list(g.out_edges(0))\n",
    "paths=edge_to_tree(g,edges)\n",
    "print('edges to convert', edges)\n",
    "print('paths from edges', paths,'\\n')\n",
    "convert_edges_to_paths(g,edges,paths)\n",
    "print('graph after converting edges to paths')\n",
    "print_graph(g)\n",
    "print('graph after converting paths to edges, same as original')\n",
    "convert_paths_to_edges(g,paths)\n",
    "print_graph(g)"
   ]
  },
  {
   "cell_type": "code",
   "execution_count": null,
   "metadata": {},
   "outputs": [],
   "source": [
    "#export\n",
    "def add_star(g : nx.MultiDiGraph,\n",
    "             nodes : List[Hashable],\n",
    "             view='in',\n",
    "             **edge_attrs):\n",
    "    '''\n",
    "    Extends `nx.add_star` to include direction from `view`.\n",
    "    `add_star` connects the first node in the list of `nodes`\n",
    "    to all others, with the direction indicated by `view`.\n",
    "    '''\n",
    "    assert view=='in' or view=='out' or view=='both', \\\n",
    "        'Require view = \"in\" or view = \"out\" or view = \"both\"'\n",
    "    nlist = iter(nodes)\n",
    "    try:\n",
    "        v = next(nlist)\n",
    "    except StopIteration:\n",
    "        return\n",
    "    g.add_node(v)\n",
    "    if view is 'out':\n",
    "        edges = ((v, n) for n in nlist)\n",
    "    elif view is 'in':\n",
    "        edges = ((n, v) for n in nlist)\n",
    "    elif view is 'both':\n",
    "        nlist=list(nlist)\n",
    "        edges = [(v, n) for n in nlist]+[(n, v) for n in nlist]\n",
    "    g.add_edges_from(edges, **edge_attrs)"
   ]
  },
  {
   "cell_type": "code",
   "execution_count": null,
   "metadata": {},
   "outputs": [
    {
     "name": "stdout",
     "output_type": "stream",
     "text": [
      "in\n",
      "|Node|Predecessors|Successors|\n",
      "|0   |1           |2, 3      |\n",
      "|1   |2           |0, 3      |\n",
      "|2   |0           |1, 3      |\n",
      "|3   |0, 1, 2     |          |\n",
      "\n",
      "out\n",
      "|Node|Predecessors|Successors|\n",
      "|0   |1, 3        |2         |\n",
      "|1   |2, 3        |0         |\n",
      "|2   |0, 3        |1         |\n",
      "|3   |            |0, 1, 2   |\n",
      "\n",
      "both\n",
      "|Node|Predecessors|Successors|\n",
      "|0   |1, 3        |2, 3      |\n",
      "|1   |2, 3        |0, 3      |\n",
      "|2   |0, 3        |1, 3      |\n",
      "|3   |0, 1, 2     |0, 1, 2   |\n",
      "\n"
     ]
    }
   ],
   "source": [
    "g=ring()\n",
    "print('in')\n",
    "add_star(g,[3,0,1,2],view='in')\n",
    "print_graph(g)\n",
    "g=ring()\n",
    "add_star(g,[3,0,1,2],view='out')\n",
    "print('out')\n",
    "print_graph(g)\n",
    "g=ring()\n",
    "add_star(g,[3,0,1,2],view='both')\n",
    "print('both')\n",
    "print_graph(g)"
   ]
  },
  {
   "cell_type": "code",
   "execution_count": null,
   "metadata": {},
   "outputs": [],
   "source": [
    "#export\n",
    "def relabel_graph(g : nx.MultiDiGraph,\n",
    "            mapping : Union[None,callable,dict] = None):\n",
    "    '''\n",
    "    Relabel nodes in place with desired 'mapping', and store the \n",
    "    `mapping` and `inverse_mapping` as attributes of `g`. \n",
    "    Can be called again without args to relabel to the original map,\n",
    "    which switches the `mapping` and `inverse_mapping`.\n",
    "    If `mapping` is None and `g` has no `mapping`, \n",
    "    defaults to replacing nodes with integers.\n",
    "    If `mapping` is None and `g` has a `mapping`, uses that.\n",
    "    Otherwise, `mapping` is a callable or dict keyed with old node labels \n",
    "    as keys and new node labels as values.\n",
    "    '''\n",
    "    if mapping is None:\n",
    "        if not g.__dict__.get('mapping'):\n",
    "            mapping={n:i for i,n in enumerate(g.nodes)}\n",
    "        else:\n",
    "            mapping=g.mapping\n",
    "            \n",
    "    elif callable(mapping):\n",
    "        mapping=mapping(g)\n",
    "    \n",
    "    inverse_mapping={v:k for k,v in mapping.items()}\n",
    "    \n",
    "    gnew=nx.relabel_nodes(g,mapping,copy=True)\n",
    "    g.__dict__.update(gnew.__dict__)\n",
    "    \n",
    "    g.mapping=inverse_mapping\n",
    "    g.inverse_mapping=mapping"
   ]
  },
  {
   "cell_type": "code",
   "execution_count": null,
   "metadata": {},
   "outputs": [
    {
     "name": "stdout",
     "output_type": "stream",
     "text": [
      "[0, 1, 2]\n"
     ]
    }
   ],
   "source": [
    "g=ring()\n",
    "print(g.nodes)"
   ]
  },
  {
   "cell_type": "code",
   "execution_count": null,
   "metadata": {},
   "outputs": [
    {
     "name": "stdout",
     "output_type": "stream",
     "text": [
      "[4, 5, 6]\n"
     ]
    }
   ],
   "source": [
    "relabel_graph(g,mapping={n:4+n for n in g.nodes})\n",
    "print(g.nodes)"
   ]
  },
  {
   "cell_type": "code",
   "execution_count": null,
   "metadata": {},
   "outputs": [
    {
     "name": "stdout",
     "output_type": "stream",
     "text": [
      "{4: 0, 5: 1, 6: 2}\n",
      "{0: 4, 1: 5, 2: 6}\n"
     ]
    }
   ],
   "source": [
    "print(g.mapping)\n",
    "print(g.inverse_mapping)"
   ]
  },
  {
   "cell_type": "code",
   "execution_count": null,
   "metadata": {},
   "outputs": [
    {
     "name": "stdout",
     "output_type": "stream",
     "text": [
      "[0, 1, 2]\n"
     ]
    }
   ],
   "source": [
    "relabel_graph(g)\n",
    "print(g.nodes)"
   ]
  },
  {
   "cell_type": "code",
   "execution_count": null,
   "metadata": {},
   "outputs": [
    {
     "name": "stdout",
     "output_type": "stream",
     "text": [
      "[4, 5, 6]\n"
     ]
    }
   ],
   "source": [
    "relabel_graph(g)\n",
    "print(g.nodes)"
   ]
  },
  {
   "cell_type": "code",
   "execution_count": null,
   "metadata": {},
   "outputs": [
    {
     "name": "stdout",
     "output_type": "stream",
     "text": [
      "[-4, -5, -6]\n"
     ]
    }
   ],
   "source": [
    "relabel_graph(g,mapping=lambda g:{n:-n for n in g.nodes})\n",
    "print(g.nodes)"
   ]
  },
  {
   "cell_type": "code",
   "execution_count": null,
   "metadata": {},
   "outputs": [
    {
     "name": "stdout",
     "output_type": "stream",
     "text": [
      "[4, 5, 6]\n"
     ]
    }
   ],
   "source": [
    "relabel_graph(g)\n",
    "print(g.nodes)"
   ]
  },
  {
   "cell_type": "code",
   "execution_count": null,
   "metadata": {},
   "outputs": [],
   "source": [
    "g=ring(left=True,right=False,loop=False)"
   ]
  },
  {
   "cell_type": "code",
   "execution_count": null,
   "metadata": {},
   "outputs": [],
   "source": [
    "#export\n",
    "def sort_graph(g : nx.MultiDiGraph,\n",
    "               nodes_by='in_degree', #g.in_degree, #sorting this function over nodes\n",
    "               node_key=lambda t:sidis.get(t,-1,-1), #last element of sorting tuple\n",
    "               node_args=(), #not accessing any attributes by default\n",
    "               nodes_ascending=True,\n",
    "               edges_by=None, #not generating function evals to sort\n",
    "               edge_key=None,#orders edges, defaults to linear comb of node sort\n",
    "               edge_args=(), #not accessing any edge attrs by default\n",
    "               edges_ascending=False,\n",
    "               relabel=False #relabel to integers\n",
    "              ) -> None:\n",
    "    '''\n",
    "    Sort the graph in place by changing node and edge order.\n",
    "    See `sidis.sort` documentation for explanation of by, key, and args.\n",
    "    Default behavior is to sort nodes by in-degree, and edges by increasing node label,\n",
    "    after relabling nodes to integers. Stores result in 'sorting' attribute.\n",
    "    '''\n",
    "    #parse args; get node sorting attr if str\n",
    "    if type(nodes_by) is str:\n",
    "        nodes_by=get(g,nodes_by)\n",
    "    #if no edge key given default to ordering by linear comb of node func\n",
    "    if edge_key is None:\n",
    "        edge_key=lambda t:100*nodes_by(t[0])-10*nodes_by(t[1])\n",
    "    \n",
    "    #sort nodes\n",
    "    node_sorting=sidis.sort(g.nodes,\n",
    "                            *node_args,\n",
    "                            by=nodes_by,\n",
    "                            key=node_key,\n",
    "                            reverse=nodes_ascending)\n",
    "\n",
    "    #sort returns tuples of (node,nodes_by(node)), so extract nodes and data\n",
    "    if nodes_by is None:\n",
    "        nodes=[(n,g.nodes[n]) for n in node_sorting]\n",
    "    else:\n",
    "        nodes=[(n[0],g.nodes[n[0]]) for n in node_sorting]  \n",
    "    \n",
    "    #sort edges\n",
    "    edge_sorting=sidis.sort(list(g.edges(keys=True)),\n",
    "                            *edge_args,\n",
    "                            by=edges_by,\n",
    "                            key=edge_key,\n",
    "                            reverse=edges_ascending)\n",
    "    \n",
    "    #extract edge,data tuple\n",
    "    if edges_by is None:\n",
    "        edges=[(*e,g.edges[e]) for e in edge_sorting]\n",
    "    else:\n",
    "        edges=[(*e[0],g.edges[e[0]]) for e in edge_sorting]        \n",
    "    \n",
    "    #wipe graph and add new nodes/edges in order\n",
    "    g.clear()\n",
    "    g.add_nodes_from(nodes)\n",
    "    g.add_edges_from(edges)\n",
    "    \n",
    "    #relabel to new ranking if desired\n",
    "    if relabel:\n",
    "        relabel_graph(g)\n",
    "        new_node_sorting=[]\n",
    "        for node,rank in node_sorting:\n",
    "            new_node_sorting+=[(g.inverse_mapping[node],rank)]\n",
    "        node_sorting=new_node_sorting\n",
    "    \n",
    "    sorting=nx.utils.groups(dict(node_sorting))\n",
    "    g.sorting={k:list(v) for k,v in sorting.items()}             "
   ]
  },
  {
   "cell_type": "code",
   "execution_count": null,
   "metadata": {},
   "outputs": [
    {
     "name": "stdout",
     "output_type": "stream",
     "text": [
      "nodes before sorting [0, 1, 2, 3]\n",
      "edges before sorting [(0, 2), (1, 0), (1, 1), (2, 1), (2, 2), (3, 2)]\n",
      "\n",
      "graph before sorting\n",
      "|Node|Predecessors|Successors|\n",
      "|0   |1           |2         |\n",
      "|1   |2, 1        |0, 1      |\n",
      "|2   |0, 2, 3     |1, 2      |\n",
      "|3   |            |2         |\n",
      "\n",
      "nodes after sorting [2, 1, 0, 3]\n",
      "edges after sorting [(2, 2), (2, 1), (1, 1), (1, 0), (0, 2), (3, 2)]\n",
      "\n",
      "graph after sorting\n",
      "|Node|Predecessors|Successors|\n",
      "|2   |3, 0, 2     |2, 1      |\n",
      "|1   |1, 2        |1, 0      |\n",
      "|0   |1           |2         |\n",
      "|3   |            |2         |\n",
      "\n",
      "nodes after sorting and relabeling [0, 1, 2, 3]\n",
      "edges after sorting and relabeling [(0, 0), (0, 1), (1, 1), (1, 2), (2, 0), (3, 0)]\n",
      "\n",
      "graph after sorting and relabeling\n",
      "|Node|Predecessors|Successors|\n",
      "|0   |0, 2, 3     |0, 1      |\n",
      "|1   |0, 1        |1, 2      |\n",
      "|2   |1           |0         |\n",
      "|3   |            |0         |\n",
      "\n"
     ]
    }
   ],
   "source": [
    "g=ring(left=True,right=False,loop=False)\n",
    "g.add_edges_from([(2,2),(3,2),(1,1)])\n",
    "G=g.copy()\n",
    "print('nodes before sorting', g.nodes)\n",
    "print('edges before sorting', g.edges(keys=False))\n",
    "print('\\ngraph before sorting')\n",
    "print_graph(g)\n",
    "sort_graph(g,relabel=False)\n",
    "\n",
    "print('nodes after sorting', g.nodes)\n",
    "print('edges after sorting', g.edges(keys=False))\n",
    "print('\\ngraph after sorting')\n",
    "print_graph(g)\n",
    "\n",
    "sort_graph(G,relabel=True)\n",
    "print('nodes after sorting and relabeling', G.nodes)\n",
    "print('edges after sorting and relabeling', G.edges(keys=False))\n",
    "print('\\ngraph after sorting and relabeling')\n",
    "print_graph(G)"
   ]
  },
  {
   "cell_type": "code",
   "execution_count": null,
   "metadata": {},
   "outputs": [
    {
     "name": "stdout",
     "output_type": "stream",
     "text": [
      "nodes before sorting ['a', 'c', 'b', 'd']\n",
      "edges before sorting [('a', 'c'), ('c', 'b'), ('c', 'c'), ('b', 'a'), ('b', 'b'), ('d', 'c')]\n",
      "\n",
      "graph before sorting\n",
      "|Node|Predecessors|Successors|\n",
      "|a   |b           |c         |\n",
      "|c   |a, c, d     |b, c      |\n",
      "|b   |b, c        |a, b      |\n",
      "|d   |            |c         |\n",
      "\n",
      "nodes after sorting ['c', 'b', 'a', 'd']\n",
      "edges after sorting [('c', 'c'), ('c', 'b'), ('b', 'b'), ('b', 'a'), ('a', 'c'), ('d', 'c')]\n",
      "\n",
      "graph after sorting\n",
      "|Node|Predecessors|Successors|\n",
      "|c   |d, a, c     |c, b      |\n",
      "|b   |b, c        |b, a      |\n",
      "|a   |b           |c         |\n",
      "|d   |            |c         |\n",
      "\n",
      "nodes after sorting and relabeling [0, 1, 2, 3]\n",
      "edges after sorting and relabeling [(0, 0), (0, 1), (1, 1), (1, 2), (2, 0), (3, 0)]\n",
      "\n",
      "graph after sorting and relabeling\n",
      "|Node|Predecessors|Successors|\n",
      "|0   |0, 2, 3     |0, 1      |\n",
      "|1   |0, 1        |1, 2      |\n",
      "|2   |1           |0         |\n",
      "|3   |            |0         |\n",
      "\n"
     ]
    }
   ],
   "source": [
    "g=nx.MultiDiGraph()\n",
    "g.add_edges_from([('a','c'),('b','a'),('b','b'),('c','b'),('c','c'),('d','c')])\n",
    "G=g.copy()\n",
    "print('nodes before sorting', g.nodes)\n",
    "print('edges before sorting', g.edges(keys=False))\n",
    "print('\\ngraph before sorting')\n",
    "print_graph(g)\n",
    "sort_graph(g,relabel=False)\n",
    "print('nodes after sorting', g.nodes)\n",
    "print('edges after sorting', g.edges(keys=False))\n",
    "print('\\ngraph after sorting')\n",
    "print_graph(g)\n",
    "sort_graph(G,relabel=True)\n",
    "print('nodes after sorting and relabeling', G.nodes)\n",
    "print('edges after sorting and relabeling', G.edges(keys=False))\n",
    "print('\\ngraph after sorting and relabeling')\n",
    "print_graph(G)"
   ]
  },
  {
   "cell_type": "code",
   "execution_count": null,
   "metadata": {},
   "outputs": [
    {
     "data": {
      "text/plain": [
       "{3: [0], 2: [1], 1: [2], 0: [3]}"
      ]
     },
     "execution_count": null,
     "metadata": {},
     "output_type": "execute_result"
    }
   ],
   "source": [
    "G.sorting"
   ]
  },
  {
   "cell_type": "code",
   "execution_count": null,
   "metadata": {},
   "outputs": [
    {
     "data": {
      "text/plain": [
       "{3: ['c'], 2: ['b'], 1: ['a'], 0: ['d']}"
      ]
     },
     "execution_count": null,
     "metadata": {},
     "output_type": "execute_result"
    }
   ],
   "source": [
    "g.sorting"
   ]
  },
  {
   "cell_type": "code",
   "execution_count": null,
   "metadata": {},
   "outputs": [],
   "source": [
    "#export\n",
    "class Network(nx.MultiDiGraph):\n",
    "    '''\n",
    "    MultiDiGraph with sorting and labeling methods,\n",
    "    and easy manipulation of node/edge properties.\n",
    "    '''\n",
    "    def __init__(self,\n",
    "                 g=None,\n",
    "                 view='out',\n",
    "                 relabel=False,\n",
    "                 **sort_kwargs\n",
    "                 ):\n",
    "    \n",
    "        super().__init__(g)\n",
    "        \n",
    "        self.view(view)\n",
    "        \n",
    "        if g is not None:\n",
    "            self.sort(relabel=relabel,**sort_kwargs)\n",
    "            if node_attrs(g):\n",
    "                self.node_data(save=True)\n",
    "            if edge_attrs(g):\n",
    "                self.edge_data(save=True)\n",
    "            \n",
    "    \n",
    "    def view(self,view='in'):\n",
    "        '''\n",
    "        Change default edge view\n",
    "        '''\n",
    "        if view=='in':\n",
    "            self.edge_view=nx.classes.reportviews.InMultiEdgeView\n",
    "\n",
    "        elif view=='out':\n",
    "            self.edge_view=nx.classes.reportviews.OutMultiEdgeView\n",
    "            \n",
    "    \n",
    "    @nx.MultiDiGraph.edges.getter\n",
    "    def edges(self):\n",
    "        return self.edge_view(self)\n",
    "    \n",
    "    \n",
    "    def sort(self,**kwargs):\n",
    "        sort_graph(self,**kwargs)\n",
    "        \n",
    "\n",
    "    def relabel(self,mapping=None):\n",
    "        relabel_graph(self,mapping)\n",
    "        \n",
    "\n",
    "    def node_attrs(self):\n",
    "        return node_attrs(self)\n",
    "    \n",
    "\n",
    "    def edge_attrs(self):\n",
    "        return edge_attrs(self)\n",
    "    \n",
    "    \n",
    "    def attrs(self):\n",
    "        return self.node_attrs()+self.edge_attrs()\n",
    "    \n",
    "\n",
    "    def give_nodes(self,data=None,nodes=None,**kwargs):\n",
    "        give_nodes(self,data=data,nodes=None,**kwargs)\n",
    "            \n",
    "\n",
    "    def give_edges(self,data=None,edges=None,**kwargs):\n",
    "        give_edges(self,data=data,edges=edges,**kwargs)\n",
    "            \n",
    "    \n",
    "    def give_self(self,data=None,**kwargs):\n",
    "        '''\n",
    "        Give any arg dict and kwargs to self as attrs\n",
    "        '''\n",
    "        try:\n",
    "            give(self,**parse_kwargs(**kwargs))\n",
    "        except:\n",
    "            pass\n",
    "        \n",
    "        if data:\n",
    "            for k,v in data.items():\n",
    "                try:\n",
    "                    self.__dict__.update(parse_kwargs(**v))\n",
    "                except KeyError:\n",
    "                    pass\n",
    "            \n",
    "            \n",
    "    def clear_nodes(self,*args):\n",
    "        '''\n",
    "        Remove arg entries from node dict\n",
    "        '''\n",
    "        if not args:\n",
    "            args=self.node_attrs()\n",
    "        [[give(self.node[n],arg,None) for n in self.nodes] for arg in args]\n",
    "        \n",
    "    \n",
    "    def clear_edges(self,*args):\n",
    "        '''\n",
    "        Remove arg entries from edge dict\n",
    "        '''\n",
    "        if not args:\n",
    "            args=self.edge_attrs()\n",
    "            \n",
    "        [[give(self.edges[e],arg,None) for e in self.edges] for arg in args]\n",
    "        \n",
    "\n",
    "    def clear_self(self,*args):\n",
    "        if not args:\n",
    "            args=list(self.node_attrs())+list(self.edge_attrs())\n",
    "        [give(self,arg,None) for arg in args]\n",
    "        \n",
    "\n",
    "    def node_data(self,*args,save=False):\n",
    "        '''\n",
    "        Set node attributes as self attribute array. \n",
    "        '''\n",
    "        if not save:\n",
    "            return node_data(self,*args)\n",
    "        else:\n",
    "            self.give_self(**node_data(self,*args))\n",
    "\n",
    "\n",
    "    def edge_data(self,*args,save=False):        \n",
    "        if not save:\n",
    "            return edge_data(self,*args)\n",
    "        else:\n",
    "            self.give_self(**edge_data(self,*args))\n",
    "            \n",
    "    \n",
    "    def self_data(self,*args):\n",
    "        if not args:\n",
    "            args=self.self_attrs()\n",
    "        return {k:get(self,k) for k in args}\n",
    "    \n",
    "\n",
    "    def swap_data(self):\n",
    "        '''\n",
    "        Switch the data location of node/edge/self attributes.\n",
    "        '''\n",
    "        edges=list(self.edges)\n",
    "        for attr in self.edge_attrs():\n",
    "            if not np.any(get(self,attr)): #if not saved in self\n",
    "                self.edge_data(attr,save=True) #save from edge\n",
    "                self.clear_edges(attr) #and clear from edge\n",
    "            else: #saved in self\n",
    "                for i,e in enumerate(edges): #give to edge\n",
    "                    self.give_edges(edges=[e],**{attr:get(self,attr,i)})\n",
    "                self.clear_self(attr) #clear from self when done\n",
    "\n",
    "        nodes=list(self.nodes) #repeat for nodes\n",
    "        for attr in self.node_attrs():\n",
    "            if not np.any(get(self,attr)):\n",
    "                self.node_data(attr,save=True)\n",
    "                self.clear_nodes(attr)\n",
    "            else:\n",
    "                for i,n in enumerate(nodes):\n",
    "                    self.give_nodes(nodes=[n],**{attr:get(self,attr,i)})\n",
    "                self.clear_self(attr)\n",
    "                \n",
    "                    \n",
    "    def convert_edges(self,\n",
    "            edges : Union[tuple,List[tuple]] = None,\n",
    "            paths : Union[list,List[list],callable] = edge_to_tree,\n",
    "            lengths : Union[int,List[int]] = 1,\n",
    "            labels : Union[None,callable,Dict[str,callable]] = None,\n",
    "            node_attrs : Union[dict,List[dict]] = {},\n",
    "            relabel = False,\n",
    "            **edge_attrs):\n",
    "        \n",
    "        if edges is None:\n",
    "            edges=list(self.edges)\n",
    "            \n",
    "        self.return_paths=convert_edges_to_paths(self,edges=edges,paths=paths,lengths=lengths,labels=labels,\n",
    "                               return_paths=True,**edge_attrs)\n",
    "        \n",
    "        self.sort(relabel=relabel)\n",
    "        \n",
    "        \n",
    "    def convert_paths(self,paths,relabel=False,**edge_attrs):\n",
    "        self.return_edges=convert_paths_to_edges(self,paths,return_edges=True,**edge_attrs)\n",
    "        self.sort(relabel=relabel)\n",
    "        \n",
    "    def unconvert_edges(self,relabel=False):\n",
    "        self.convert_paths(paths=self.return_paths)\n",
    "        self.sort(relabel=relabel)\n",
    "    \n",
    "    def unconvert_paths(self,relabel=False):\n",
    "        self.convert_edges(edges=self.return_edges)\n",
    "        self.sort(relabel=relabel)\n",
    "        \n",
    "    def where(self,*args,**kwargs):\n",
    "        return where(self,*args,**kwargs)\n",
    "    \n",
    "    def edgewhere(self,*args):\n",
    "        return np.array(self.edges)[self.where(*args)]\n",
    "    \n",
    "    def nodewhere(self,*args):\n",
    "        return np.array(self.nodes)[self.where(*args)]\n",
    "    \n",
    "    def __str__(self):\n",
    "        return print_graph(self,string=True)\n",
    "    \n",
    "    def __repr__(self):\n",
    "        s=str(self)\n",
    "        S=super().__repr__()\n",
    "        spl=s.split('\\n')\n",
    "        if len(spl)>10:\n",
    "            spl=spl[:5]+['...']+spl[-5:]\n",
    "        return S+'\\n'+('\\n').join(spl)"
   ]
  },
  {
   "cell_type": "code",
   "execution_count": null,
   "metadata": {},
   "outputs": [],
   "source": [
    "g=ring(left=True,right=False,loop=False)\n",
    "g.add_edges_from([(2,2),(3,2),(1,1)])\n",
    "\n",
    "for i,n in enumerate(g.nodes):\n",
    "    g.nodes[n]['n']=i\n",
    "    \n",
    "for i,e in enumerate(g.edges):\n",
    "    g.edges[e]['e']=i\n",
    "    \n",
    "G=Network(g,relabel=True)"
   ]
  },
  {
   "cell_type": "code",
   "execution_count": null,
   "metadata": {},
   "outputs": [
    {
     "data": {
      "text/plain": [
       "<__main__.Network object at 0x000001E8B5CF2608>\n",
       "|Node|Predecessors|Successors|\n",
       "|0   |0, 2, 3     |0, 1      |\n",
       "|1   |0, 1        |1, 2      |\n",
       "|2   |1           |0         |\n",
       "|3   |            |0         |"
      ]
     },
     "execution_count": null,
     "metadata": {},
     "output_type": "execute_result"
    }
   ],
   "source": [
    "G"
   ]
  },
  {
   "cell_type": "code",
   "execution_count": null,
   "metadata": {},
   "outputs": [
    {
     "data": {
      "text/plain": [
       "array([2, 1, 0, 3])"
      ]
     },
     "execution_count": null,
     "metadata": {},
     "output_type": "execute_result"
    }
   ],
   "source": [
    "G.n"
   ]
  },
  {
   "cell_type": "code",
   "execution_count": null,
   "metadata": {},
   "outputs": [
    {
     "data": {
      "text/plain": [
       "array([4, 3, 2, 1, 0, 5])"
      ]
     },
     "execution_count": null,
     "metadata": {},
     "output_type": "execute_result"
    }
   ],
   "source": [
    "G.e"
   ]
  },
  {
   "cell_type": "code",
   "execution_count": null,
   "metadata": {},
   "outputs": [
    {
     "data": {
      "text/plain": [
       "NodeDataView({0: {'n': 2}, 1: {'n': 1}, 2: {'n': 0}, 3: {'n': 3}})"
      ]
     },
     "execution_count": null,
     "metadata": {},
     "output_type": "execute_result"
    }
   ],
   "source": [
    "G.nodes(data=True)"
   ]
  },
  {
   "cell_type": "code",
   "execution_count": null,
   "metadata": {},
   "outputs": [
    {
     "data": {
      "text/plain": [
       "OutMultiEdgeDataView([(0, 0, {'e': 4}), (0, 1, {'e': 3}), (1, 1, {'e': 2}), (1, 2, {'e': 1}), (2, 0, {'e': 0}), (3, 0, {'e': 5})])"
      ]
     },
     "execution_count": null,
     "metadata": {},
     "output_type": "execute_result"
    }
   ],
   "source": [
    "G.edges(data=True)"
   ]
  },
  {
   "cell_type": "code",
   "execution_count": null,
   "metadata": {},
   "outputs": [
    {
     "data": {
      "text/plain": [
       "([2], [(3, 0, 0)])"
      ]
     },
     "execution_count": null,
     "metadata": {},
     "output_type": "execute_result"
    }
   ],
   "source": [
    "G.where(G.n==0,e=5)"
   ]
  },
  {
   "cell_type": "code",
   "execution_count": null,
   "metadata": {},
   "outputs": [
    {
     "data": {
      "text/plain": [
       "array([[0, 0, 0],\n",
       "       [3, 0, 0]])"
      ]
     },
     "execution_count": null,
     "metadata": {},
     "output_type": "execute_result"
    }
   ],
   "source": [
    "G.edgewhere(G.e>=4)"
   ]
  },
  {
   "cell_type": "code",
   "execution_count": null,
   "metadata": {},
   "outputs": [
    {
     "data": {
      "text/plain": [
       "array([[0, 1, 2, 3]])"
      ]
     },
     "execution_count": null,
     "metadata": {},
     "output_type": "execute_result"
    }
   ],
   "source": [
    "G.nodewhere(G.n>=4) #bug"
   ]
  },
  {
   "cell_type": "code",
   "execution_count": null,
   "metadata": {},
   "outputs": [],
   "source": [
    "G.convert_edges(edges=G.edgewhere(G.e>3),lengths=1)"
   ]
  },
  {
   "cell_type": "code",
   "execution_count": null,
   "metadata": {},
   "outputs": [
    {
     "data": {
      "text/plain": [
       "<__main__.Network object at 0x000001E8B5CF2608>\n",
       "|Node|Predecessors|Successors|\n",
       "|0   |2, 4, 5     |1, 4      |\n",
       "|1   |1, 0        |1, 2      |\n",
       "|2   |1           |0         |\n",
       "|4   |0           |0         |\n",
       "|5   |3           |0         |\n",
       "|3   |            |5         |"
      ]
     },
     "execution_count": null,
     "metadata": {},
     "output_type": "execute_result"
    }
   ],
   "source": [
    "G"
   ]
  },
  {
   "cell_type": "code",
   "execution_count": null,
   "metadata": {},
   "outputs": [
    {
     "data": {
      "text/plain": [
       "<__main__.Network object at 0x000001E8B5CF2608>\n",
       "|Node|Predecessors|Successors|\n",
       "|0   |3, 2, 0     |0, 1      |\n",
       "|1   |1, 0        |1, 2      |\n",
       "|2   |1           |0         |\n",
       "|3   |            |0         |"
      ]
     },
     "execution_count": null,
     "metadata": {},
     "output_type": "execute_result"
    }
   ],
   "source": [
    "G.unconvert_edges()\n",
    "G"
   ]
  },
  {
   "cell_type": "code",
   "execution_count": null,
   "metadata": {},
   "outputs": [
    {
     "data": {
      "text/plain": [
       "InMultiEdgeView([(3, 0, 0), (2, 0, 0), (0, 0, 0), (1, 1, 0), (0, 1, 0), (1, 2, 0)])"
      ]
     },
     "execution_count": null,
     "metadata": {},
     "output_type": "execute_result"
    }
   ],
   "source": [
    "G.view('in')\n",
    "G.edges"
   ]
  },
  {
   "cell_type": "code",
   "execution_count": null,
   "metadata": {},
   "outputs": [
    {
     "data": {
      "text/plain": [
       "OutMultiEdgeView([(0, 0, 0), (0, 1, 0), (1, 1, 0), (1, 2, 0), (2, 0, 0), (3, 0, 0)])"
      ]
     },
     "execution_count": null,
     "metadata": {},
     "output_type": "execute_result"
    }
   ],
   "source": [
    "G.view('out')\n",
    "G.edges"
   ]
  },
  {
   "cell_type": "code",
   "execution_count": null,
   "metadata": {},
   "outputs": [],
   "source": [
    "refresh()"
   ]
  }
 ],
 "metadata": {
  "kernelspec": {
   "display_name": "Python 3",
   "language": "python",
   "name": "python3"
  }
 },
 "nbformat": 4,
 "nbformat_minor": 4
}
