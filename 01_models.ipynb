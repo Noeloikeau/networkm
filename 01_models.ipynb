{
 "cells": [
  {
   "cell_type": "code",
   "execution_count": null,
   "id": "pleased-sewing",
   "metadata": {},
   "outputs": [],
   "source": [
    "# default_exp models"
   ]
  },
  {
   "cell_type": "markdown",
   "id": "thermal-oxford",
   "metadata": {},
   "source": [
    "# models\n",
    "> a"
   ]
  },
  {
   "cell_type": "code",
   "execution_count": null,
   "id": "trained-knock",
   "metadata": {},
   "outputs": [],
   "source": [
    "#hide\n",
    "from nbdev import *\n",
    "from nbdev.imports import *\n",
    "from nbdev.export import *\n",
    "from nbdev.sync import *\n",
    "from nbdev.showdoc import *"
   ]
  },
  {
   "cell_type": "code",
   "execution_count": null,
   "id": "anticipated-excitement",
   "metadata": {},
   "outputs": [],
   "source": [
    "#hide\n",
    "%load_ext autoreload\n",
    "%autoreload 2"
   ]
  },
  {
   "cell_type": "code",
   "execution_count": null,
   "id": "extra-winning",
   "metadata": {},
   "outputs": [],
   "source": [
    "#export\n",
    "import networkx as nx\n",
    "import numpy as np\n",
    "import typing\n",
    "from typing import Optional, Tuple, Dict, Callable, Union, Mapping, Sequence, Iterable, Hashable, List, Any\n",
    "from collections import namedtuple\n",
    "import sidis\n",
    "from sidis import *"
   ]
  },
  {
   "cell_type": "code",
   "execution_count": null,
   "id": "understood-denmark",
   "metadata": {},
   "outputs": [],
   "source": [
    "import networkm.network\n",
    "from networkm.network import *"
   ]
  },
  {
   "cell_type": "code",
   "execution_count": null,
   "id": "mature-effectiveness",
   "metadata": {},
   "outputs": [
    {
     "data": {
      "text/plain": [
       "<networkm.network.Network object at 0x00000271AB4EC5C8>\n",
       "|Node|Predecessors|Successors|\n",
       "|2   |3, 0, 2     |2, 1      |\n",
       "|1   |1, 2        |1, 0      |\n",
       "|0   |1           |2         |\n",
       "|3   |            |2         |"
      ]
     },
     "execution_count": null,
     "metadata": {},
     "output_type": "execute_result"
    }
   ],
   "source": [
    "g=ring(left=True,right=False,loop=False)\n",
    "g.add_edges_from([(2,2),(3,2),(1,1)])\n",
    "\n",
    "for i,n in enumerate(g.nodes):\n",
    "    g.nodes[n]['n']=i\n",
    "    \n",
    "for i,e in enumerate(g.edges):\n",
    "    g.edges[e]['delay']=i\n",
    "    \n",
    "G=Network(g,relabel=False)\n",
    "G"
   ]
  },
  {
   "cell_type": "code",
   "execution_count": null,
   "id": "public-latvia",
   "metadata": {},
   "outputs": [
    {
     "name": "stdout",
     "output_type": "stream",
     "text": [
      "[(2, 2, {'delay': 4}), (2, 1, {'delay': 3}), (1, 1, {'delay': 2}), (1, 0, {'delay': 1}), (0, 2, {'delay': 0}), (3, 2, {'delay': 5})]\n",
      "[(2, {'n': 2}), (1, {'n': 1}), (0, {'n': 0}), (3, {'n': 3})]\n"
     ]
    }
   ],
   "source": [
    "print(G.edges(data=True))\n",
    "print(G.nodes(data=True))"
   ]
  },
  {
   "cell_type": "code",
   "execution_count": null,
   "id": "acceptable-moment",
   "metadata": {},
   "outputs": [],
   "source": [
    "#export\n",
    "class NetworkModel(Network):\n",
    "    '''\n",
    "    Generic network model class. Has base functionality for incorporating\n",
    "    a network and simulating its dynamics, as well as executing arbitrary \n",
    "    routines. Can pass a network `g`, `node_data`, `edge_data`, and `kwargs`\n",
    "    which get placed as attributes. `routines` is a list of functions,\n",
    "    args, kwargs, and optional string attributes, which specify a list\n",
    "    of functions to execute over the args and kwargs, and whether to set\n",
    "    the result as an attribute of the model. This allows for arbitrary\n",
    "    executions of routines. Finally, `derivative`, `integrator`, and\n",
    "    `visualizer` specify the state-change and plotting functions.\n",
    "    '''\n",
    "    def __init__(self,\n",
    "                 g : Union[None,Network,nx.MultiDiGraph] = None,\n",
    "                 node_data : Dict = {},\n",
    "                 edge_data : Dict = {},\n",
    "                 routines : List[Tuple[callable,tuple,dict,str]] = [(None,(),{},None)],\n",
    "                 derivative : Optional[callable] = None,\n",
    "                 integrator : Optional[callable] = None,\n",
    "                 visualizer : Optional[callable] = None,\n",
    "                 exclusions : List[str] = ['self'],\n",
    "                 *args,\n",
    "                 **kwargs\n",
    "                ):\n",
    "        \n",
    "        self.__dict__.update({k:v for k,v in locals().items() if k not in exclusions})\n",
    "        \n",
    "        super().__init__(g,relabel=True,view='out')\n",
    "        \n",
    "        self.give(node_data=node_data,edge_data=edge_data)\n",
    "        \n",
    "        self.routine(routines)\n",
    "\n",
    "        \n",
    "        def give(self,node_data=None,edge_data=None,model_data=None,nodes=None,edges=None):\n",
    "            self.give_nodes(data=node_data,nodes=nodes,**node_data)\n",
    "            self.give_edges(data=edge_data,edges=edges,**edge_data)\n",
    "            self.give_self(data=model_data,**model_data)\n",
    "            self.node_data(save=True)\n",
    "            self.edge_data(save=True)\n",
    "\n",
    "        def derive(self,*args,**kwargs):\n",
    "            res = self.derivative(*args,**kwargs)\n",
    "            if res:\n",
    "                return res\n",
    "        @timer    \n",
    "        def integrate(self,*args,**kwargs):\n",
    "            res = self.integrator(*args,**kwargs)\n",
    "            if res:\n",
    "                return res\n",
    "        \n",
    "        def visualize(self,*args,**kwargs):\n",
    "            res = self.visualizer(*args,**kwargs)\n",
    "            if res:\n",
    "                return res\n",
    "        \n",
    "        def routine(self,routines=None):\n",
    "            if routines is None:\n",
    "                routines=self.routines\n",
    "            res = []\n",
    "            for tup in routines:\n",
    "                if len(tup)==3: #return func eval\n",
    "                    f,args,kwargs = tup\n",
    "                    try:\n",
    "                        res += [f(*args,**kwargs)]\n",
    "                    except:\n",
    "                        pass\n",
    "                elif len(tup) == 4: #set eval as str\n",
    "                    f,args,kwargs,attr = tup\n",
    "                    try:\n",
    "                        temp=f(*args,**kwargs)\n",
    "                        setattr(self,attr,temp)\n",
    "                    except:\n",
    "                        pass\n",
    "            if res:\n",
    "                return res"
   ]
  },
  {
   "cell_type": "code",
   "execution_count": null,
   "id": "cheap-course",
   "metadata": {},
   "outputs": [],
   "source": [
    "#export\n",
    "def dde_iter(G,delay_key='delay'):\n",
    "    res=[]\n",
    "    node_index=0\n",
    "    for deg,nodes in G.sorting.items():\n",
    "        if deg==0:\n",
    "            pass\n",
    "        else:\n",
    "            L=len(nodes)\n",
    "            temp=[]\n",
    "            temp+=[(node_index,node_index+L)]\n",
    "            temp+=[np.array([list(G.predecessors(n)) for n in nodes])]\n",
    "            temp+=[np.array([G.edges[e][delay_key] \\\n",
    "                for e in G.in_edges(nodes,keys=True)]).reshape((len(nodes),deg))]\n",
    "            res+=[temp]\n",
    "            node_index+=L\n",
    "    return res"
   ]
  },
  {
   "cell_type": "code",
   "execution_count": null,
   "id": "motivated-collection",
   "metadata": {},
   "outputs": [
    {
     "data": {
      "text/plain": [
       "<networkm.network.Network object at 0x00000271AB479208>\n",
       "|Node|Predecessors|Successors|\n",
       "|0   |0, 2, 3     |0, 1      |\n",
       "|1   |0, 1        |1, 2      |\n",
       "|2   |1           |0         |\n",
       "|3   |            |0         |"
      ]
     },
     "execution_count": null,
     "metadata": {},
     "output_type": "execute_result"
    }
   ],
   "source": [
    "g=ring(left=True,right=False,loop=False)\n",
    "g.add_edges_from([(2,2),(3,2),(1,1)])\n",
    "\n",
    "for i,n in enumerate(g.nodes):\n",
    "    g.nodes[n]['n']=i\n",
    "    \n",
    "for i,e in enumerate(g.edges):\n",
    "    g.edges[e]['delay']=i\n",
    "    \n",
    "G=Network(g,relabel=False)\n",
    "G.relabel()\n",
    "G"
   ]
  },
  {
   "cell_type": "code",
   "execution_count": null,
   "id": "noble-elimination",
   "metadata": {},
   "outputs": [
    {
     "ename": "ValueError",
     "evalue": "cannot reshape array of size 1 into shape (1,3)",
     "output_type": "error",
     "traceback": [
      "\u001b[1;31m---------------------------------------------------------------------------\u001b[0m",
      "\u001b[1;31mValueError\u001b[0m                                Traceback (most recent call last)",
      "\u001b[1;32m<ipython-input-89-ab699c20a7bf>\u001b[0m in \u001b[0;36m<module>\u001b[1;34m\u001b[0m\n\u001b[1;32m----> 1\u001b[1;33m \u001b[0mdde_iter\u001b[0m\u001b[1;33m(\u001b[0m\u001b[0mG\u001b[0m\u001b[1;33m,\u001b[0m\u001b[0mdelay_key\u001b[0m\u001b[1;33m=\u001b[0m\u001b[1;34m'delay'\u001b[0m\u001b[1;33m)\u001b[0m\u001b[1;33m\u001b[0m\u001b[1;33m\u001b[0m\u001b[0m\n\u001b[0m",
      "\u001b[1;32m<ipython-input-77-50615c026f4e>\u001b[0m in \u001b[0;36mdde_iter\u001b[1;34m(G, delay_key)\u001b[0m\n\u001b[0;32m     13\u001b[0m             \u001b[0mtemp\u001b[0m\u001b[1;33m+=\u001b[0m\u001b[1;33m[\u001b[0m\u001b[0mnp\u001b[0m\u001b[1;33m.\u001b[0m\u001b[0marray\u001b[0m\u001b[1;33m(\u001b[0m\u001b[1;33m[\u001b[0m\u001b[0mlist\u001b[0m\u001b[1;33m(\u001b[0m\u001b[0mG\u001b[0m\u001b[1;33m.\u001b[0m\u001b[0mpredecessors\u001b[0m\u001b[1;33m(\u001b[0m\u001b[0mn\u001b[0m\u001b[1;33m)\u001b[0m\u001b[1;33m)\u001b[0m \u001b[1;32mfor\u001b[0m \u001b[0mn\u001b[0m \u001b[1;32min\u001b[0m \u001b[0mnodes\u001b[0m\u001b[1;33m]\u001b[0m\u001b[1;33m)\u001b[0m\u001b[1;33m]\u001b[0m\u001b[1;33m\u001b[0m\u001b[1;33m\u001b[0m\u001b[0m\n\u001b[0;32m     14\u001b[0m             temp+=[np.array([G.edges[e][delay_key] \\\n\u001b[1;32m---> 15\u001b[1;33m                 for e in G.in_edges(nodes,keys=True)]).reshape((len(nodes),deg))]\n\u001b[0m\u001b[0;32m     16\u001b[0m             \u001b[0mres\u001b[0m\u001b[1;33m+=\u001b[0m\u001b[1;33m[\u001b[0m\u001b[0mtemp\u001b[0m\u001b[1;33m]\u001b[0m\u001b[1;33m\u001b[0m\u001b[1;33m\u001b[0m\u001b[0m\n\u001b[0;32m     17\u001b[0m             \u001b[0mnode_index\u001b[0m\u001b[1;33m+=\u001b[0m\u001b[0mL\u001b[0m\u001b[1;33m\u001b[0m\u001b[1;33m\u001b[0m\u001b[0m\n",
      "\u001b[1;31mValueError\u001b[0m: cannot reshape array of size 1 into shape (1,3)"
     ]
    }
   ],
   "source": [
    "dde_iter(G,delay_key='delay')"
   ]
  },
  {
   "cell_type": "code",
   "execution_count": null,
   "id": "standard-stephen",
   "metadata": {},
   "outputs": [
    {
     "data": {
      "text/plain": [
       "{3: [2], 2: [1], 1: [0], 0: [3]}"
      ]
     },
     "execution_count": null,
     "metadata": {},
     "output_type": "execute_result"
    }
   ],
   "source": [
    "G.sorting"
   ]
  },
  {
   "cell_type": "code",
   "execution_count": null,
   "id": "small-motel",
   "metadata": {},
   "outputs": [
    {
     "name": "stdout",
     "output_type": "stream",
     "text": [
      "3 [2]\n",
      "(1, 3)\n",
      "[(2, 2), (0, 2), (3, 2)]\n",
      "[array([4, 0, 5])]\n",
      "2 [1]\n",
      "(1, 2)\n",
      "[(2, 1), (1, 1)]\n",
      "[array([3, 2])]\n",
      "1 [0]\n",
      "(1, 1)\n",
      "[(1, 0)]\n",
      "[array([1])]\n",
      "0 [3]\n",
      "(1, 0)\n",
      "[]\n",
      "[array([], dtype=float64)]\n"
     ]
    }
   ],
   "source": [
    "for deg,nodes in G.sorting.items():\n",
    "    print(deg,nodes)\n",
    "    print((len(nodes),deg))\n",
    "    print(G.in_edges(nodes))\n",
    "    print([np.array([G.edges[e]['delay'] for e in G.in_edges(nodes,keys=True)])])"
   ]
  },
  {
   "cell_type": "code",
   "execution_count": null,
   "id": "adolescent-market",
   "metadata": {},
   "outputs": [
    {
     "data": {
      "text/plain": [
       "{3: [2], 2: [1], 1: [0], 0: [3]}"
      ]
     },
     "execution_count": null,
     "metadata": {},
     "output_type": "execute_result"
    }
   ],
   "source": [
    "G.sorting"
   ]
  },
  {
   "cell_type": "code",
   "execution_count": null,
   "id": "forward-london",
   "metadata": {},
   "outputs": [
    {
     "name": "stdout",
     "output_type": "stream",
     "text": [
      "[2, 0, 3]\n",
      "3\n",
      "[2, 1]\n",
      "2\n",
      "[1]\n",
      "1\n",
      "[]\n",
      "0\n"
     ]
    }
   ],
   "source": [
    "for n in G.nodes:\n",
    "    print(list(G.predecessors(n)))\n",
    "    print(G.in_degree(n))"
   ]
  },
  {
   "cell_type": "code",
   "execution_count": null,
   "id": "analyzed-nickel",
   "metadata": {},
   "outputs": [],
   "source": []
  }
 ],
 "metadata": {
  "kernelspec": {
   "display_name": "Python 3",
   "language": "python",
   "name": "python3"
  }
 },
 "nbformat": 4,
 "nbformat_minor": 5
}
