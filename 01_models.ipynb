{
 "cells": [
  {
   "cell_type": "code",
   "execution_count": null,
   "id": "extreme-retirement",
   "metadata": {},
   "outputs": [],
   "source": [
    "# default_exp models"
   ]
  },
  {
   "cell_type": "markdown",
   "id": "trained-fountain",
   "metadata": {},
   "source": [
    "# models\n",
    "> a"
   ]
  },
  {
   "cell_type": "code",
   "execution_count": null,
   "id": "greek-diana",
   "metadata": {},
   "outputs": [],
   "source": [
    "#hide\n",
    "from nbdev import *\n",
    "from nbdev.imports import *\n",
    "from nbdev.export import *\n",
    "from nbdev.sync import *\n",
    "from nbdev.showdoc import *"
   ]
  },
  {
   "cell_type": "code",
   "execution_count": null,
   "id": "caring-demographic",
   "metadata": {},
   "outputs": [],
   "source": [
    "#hide\n",
    "%load_ext autoreload\n",
    "%autoreload 2"
   ]
  },
  {
   "cell_type": "code",
   "execution_count": null,
   "id": "normal-beginning",
   "metadata": {},
   "outputs": [
    {
     "name": "stderr",
     "output_type": "stream",
     "text": [
      "C:\\Anaconda3\\lib\\site-packages\\numpy\\_distributor_init.py:32: UserWarning: loaded more than 1 DLL from .libs:\n",
      "C:\\Anaconda3\\lib\\site-packages\\numpy\\.libs\\libopenblas.NOIJJG62EMASZI6NYURL6JBKM4EVBGM7.gfortran-win_amd64.dll\n",
      "C:\\Anaconda3\\lib\\site-packages\\numpy\\.libs\\libopenblas.PYQHXLVVQ7VESDPUVUADXEVJOBGHJPAY.gfortran-win_amd64.dll\n",
      "  stacklevel=1)\n"
     ]
    }
   ],
   "source": [
    "#export\n",
    "import networkx as nx\n",
    "import numpy as np\n",
    "import typing\n",
    "from typing import Optional, Tuple, Dict, Callable, Union, Mapping, Sequence, Iterable, Hashable, List, Any\n",
    "from collections import namedtuple\n",
    "import sidis\n",
    "from sidis import *"
   ]
  },
  {
   "cell_type": "code",
   "execution_count": null,
   "id": "mexican-theme",
   "metadata": {},
   "outputs": [],
   "source": [
    "import networkm.network\n",
    "from networkm.network import *"
   ]
  },
  {
   "cell_type": "code",
   "execution_count": null,
   "id": "still-alliance",
   "metadata": {},
   "outputs": [
    {
     "data": {
      "text/plain": [
       "<networkm.network.Network object at 0x000002B0924107C8>\n",
       "|Node|Predecessors|Successors|\n",
       "|2   |3, 0, 2     |2, 1      |\n",
       "|1   |1, 2        |1, 0      |\n",
       "|0   |1           |2         |\n",
       "|3   |            |2         |"
      ]
     },
     "execution_count": null,
     "metadata": {},
     "output_type": "execute_result"
    }
   ],
   "source": [
    "g=ring(left=True,right=False,loop=False)\n",
    "g.add_edges_from([(2,2),(3,2),(1,1)])\n",
    "\n",
    "for i,n in enumerate(g.nodes):\n",
    "    g.nodes[n]['n']=i\n",
    "    \n",
    "for i,e in enumerate(g.edges):\n",
    "    g.edges[e]['delay']=i\n",
    "    \n",
    "G=Network(g,relabel=False)\n",
    "G"
   ]
  },
  {
   "cell_type": "code",
   "execution_count": null,
   "id": "rural-attention",
   "metadata": {},
   "outputs": [
    {
     "name": "stdout",
     "output_type": "stream",
     "text": [
      "[(2, 2, {'delay': 4}), (2, 1, {'delay': 3}), (1, 1, {'delay': 2}), (1, 0, {'delay': 1}), (0, 2, {'delay': 0}), (3, 2, {'delay': 5})]\n",
      "[(2, {'n': 2}), (1, {'n': 1}), (0, {'n': 0}), (3, {'n': 3})]\n"
     ]
    }
   ],
   "source": [
    "print(G.edges(data=True))\n",
    "print(G.nodes(data=True))"
   ]
  },
  {
   "cell_type": "code",
   "execution_count": null,
   "id": "particular-comfort",
   "metadata": {},
   "outputs": [],
   "source": [
    "#export\n",
    "class NetworkModel(Network):\n",
    "    '''\n",
    "    Generic network model class. Has base functionality for incorporating\n",
    "    a network and simulating its dynamics, as well as executing arbitrary \n",
    "    routines. Can pass a network `g`, `node_data`, `edge_data`, and `kwargs`\n",
    "    which get placed as attributes. `routines` is a list of functions,\n",
    "    args, kwargs, and optional string attributes, which specify a list\n",
    "    of functions to execute over the args and kwargs, and whether to set\n",
    "    the result as an attribute of the model. This allows for arbitrary\n",
    "    executions of routines. Finally, `derivative`, `integrator`, and\n",
    "    `visualizer` specify the state-change and plotting functions.\n",
    "    '''\n",
    "    def __init__(self,\n",
    "                 g : Union[None,Network,nx.MultiDiGraph] = None,\n",
    "                 node_data : Dict = {},\n",
    "                 edge_data : Dict = {},\n",
    "                 routines : List[Tuple[callable,tuple,dict,str]] = [(None,(),{},None)],\n",
    "                 derivative : Optional[callable] = None,\n",
    "                 integrator : Optional[callable] = None,\n",
    "                 visualizer : Optional[callable] = None,\n",
    "                 exclusions : List[str] = ['self'],\n",
    "                 *args,\n",
    "                 **kwargs\n",
    "                ):\n",
    "        \n",
    "        self.__dict__.update({k:v for k,v in locals().items() if k not in exclusions})\n",
    "        \n",
    "        super().__init__(g,relabel=True,view='out')\n",
    "        \n",
    "        self.give(node_data=node_data,edge_data=edge_data)\n",
    "        \n",
    "        self.routine(routines)\n",
    "\n",
    "        \n",
    "        def give(self,node_data=None,edge_data=None,model_data=None,nodes=None,edges=None):\n",
    "            self.give_nodes(data=node_data,nodes=nodes,**node_data)\n",
    "            self.give_edges(data=edge_data,edges=edges,**edge_data)\n",
    "            self.give_self(data=model_data,**model_data)\n",
    "            self.node_data(save=True)\n",
    "            self.edge_data(save=True)\n",
    "\n",
    "        def derive(self,*args,**kwargs):\n",
    "            res = self.derivative(*args,**kwargs)\n",
    "            if res:\n",
    "                return res\n",
    "        @timer    \n",
    "        def integrate(self,*args,**kwargs):\n",
    "            res = self.integrator(*args,**kwargs)\n",
    "            if res:\n",
    "                return res\n",
    "        \n",
    "        def visualize(self,*args,**kwargs):\n",
    "            res = self.visualizer(*args,**kwargs)\n",
    "            if res:\n",
    "                return res\n",
    "        \n",
    "        def routine(self,routines=None):\n",
    "            if routines is None:\n",
    "                routines=self.routines\n",
    "            res = []\n",
    "            for tup in routines:\n",
    "                if len(tup)==3: #return func eval\n",
    "                    f,args,kwargs = tup\n",
    "                    try:\n",
    "                        res += [f(*args,**kwargs)]\n",
    "                    except:\n",
    "                        pass\n",
    "                elif len(tup) == 4: #set eval as str\n",
    "                    f,args,kwargs,attr = tup\n",
    "                    try:\n",
    "                        temp=f(*args,**kwargs)\n",
    "                        setattr(self,attr,temp)\n",
    "                    except:\n",
    "                        pass\n",
    "            if res:\n",
    "                return res"
   ]
  },
  {
   "cell_type": "code",
   "execution_count": null,
   "id": "intended-earthquake",
   "metadata": {},
   "outputs": [],
   "source": [
    "#export\n",
    "def dde_iter(G : Network,\n",
    "             delay_key : str = 'delay') -> List[List[Union[tuple,np.ndarray,np.ndarray]]]:\n",
    "    '''\n",
    "    Construct a list of iterables used in the calculation\n",
    "    of a delay-differential-equation (dde) for a network `G`.\n",
    "    Returns a list-of-lists containing  [(node_start,node_stop), \n",
    "    adjacency matrix, delay matrix] for each in-degree group.\n",
    "    '''\n",
    "    res=[]\n",
    "    node_index=0\n",
    "    for deg,nodes in G.sorting.items():\n",
    "        if deg==0:\n",
    "            pass\n",
    "        else:\n",
    "            L=len(nodes)\n",
    "            temp=[]\n",
    "            temp+=[(node_index,node_index+L)]\n",
    "            temp+=[np.array([list(G.predecessors(n)) for n in nodes])]\n",
    "            temp+=[np.array([G.edges[e][delay_key] \\\n",
    "                for e in G.in_edges(nodes,keys=True)]).reshape((len(nodes),deg))]\n",
    "            res+=[temp]\n",
    "            node_index+=L\n",
    "    return res"
   ]
  },
  {
   "cell_type": "code",
   "execution_count": null,
   "id": "enclosed-minister",
   "metadata": {},
   "outputs": [],
   "source": [
    "g=ring(left=True,right=False,loop=False)\n",
    "g.add_edges_from([(2,2),(3,2),(1,1)])\n",
    "\n",
    "for i,n in enumerate(g.nodes):\n",
    "    g.nodes[n]['n']=i\n",
    "    \n",
    "for i,e in enumerate(g.edges):\n",
    "    g.edges[e]['delay']=i\n",
    "    \n",
    "G=Network(g,relabel=True)"
   ]
  },
  {
   "cell_type": "code",
   "execution_count": null,
   "id": "confirmed-consultancy",
   "metadata": {},
   "outputs": [
    {
     "data": {
      "text/plain": [
       "[[(0, 1), array([[0, 2, 3]]), array([[4, 0, 5]])],\n",
       " [(1, 2), array([[0, 1]]), array([[3, 2]])],\n",
       " [(2, 3), array([[1]]), array([[1]])]]"
      ]
     },
     "execution_count": null,
     "metadata": {},
     "output_type": "execute_result"
    }
   ],
   "source": [
    "di=dde_iter(G,delay_key='delay')\n",
    "di"
   ]
  },
  {
   "cell_type": "code",
   "execution_count": null,
   "id": "spoken-questionnaire",
   "metadata": {},
   "outputs": [],
   "source": [
    "#export\n",
    "def dde_iter(G : Network,\n",
    "             delay_key : str = 'delay') -> List[List[Union[tuple,np.ndarray,np.ndarray]]]:\n",
    "    '''\n",
    "    Construct a list of iterables used in the calculation\n",
    "    of a delay-differential-equation (dde) for a network `G`.\n",
    "    Returns a list-of-lists containing  [(node_start,node_stop), \n",
    "    adjacency matrix, delay matrix] for each in-degree group.\n",
    "    '''\n",
    "    node_bounds=[]\n",
    "    adj_matrices=[]\n",
    "    delay_matrices=[]\n",
    "    node_index=0\n",
    "    for deg,nodes in G.sorting.items():\n",
    "        if deg==0:\n",
    "            pass\n",
    "        else:\n",
    "            L=len(nodes)\n",
    "            node_bounds+=[(node_index,node_index+L)]\n",
    "            adj_matrices+=[np.array([list(G.predecessors(n)) for n in nodes])]\n",
    "            delay_matrices+=[np.array([G.edges[e][delay_key] \\\n",
    "                for e in G.in_edges(nodes,keys=True)]).reshape((len(nodes),deg))]\n",
    "            node_index+=L\n",
    "    return node_bounds,adj_matrices,delay_matrices"
   ]
  },
  {
   "cell_type": "code",
   "execution_count": null,
   "id": "cellular-reference",
   "metadata": {},
   "outputs": [],
   "source": [
    "node_bounds,adj_matrices,delay_matrices=dde_iter(G)"
   ]
  },
  {
   "cell_type": "code",
   "execution_count": null,
   "id": "absolute-blind",
   "metadata": {},
   "outputs": [
    {
     "data": {
      "text/plain": [
       "5"
      ]
     },
     "execution_count": null,
     "metadata": {},
     "output_type": "execute_result"
    }
   ],
   "source": [
    "np.max([np.max(delays) for delays in delay_matrices])"
   ]
  },
  {
   "cell_type": "code",
   "execution_count": null,
   "id": "entire-boulder",
   "metadata": {},
   "outputs": [],
   "source": [
    "def dde_discrete(t,x,dx,f,tau,delays,epsilon,iterator,sigmoid=np.rint):\n",
    "    for (n1,n2),in_nodes in iterator:\n",
    "        y=sigmoid(x[delays,in_nodes])\n",
    "        dx[n1:n2]=np.array([F(*y[j]) for j,F in enumerate(f[n1:n2])])\n",
    "    return (-x[t]+dx+epsilon)/tau\n",
    "\n",
    "def dde(t,x,dx,f,a,tau,delays,epsilon,iterator):\n",
    "    for (n1,n2),in_nodes,sigmoid in iterator:\n",
    "        #s=lambda z: (1+np.tanh(a[n1:n2].reshape((n2-n1,1))*(z-0.5)))/2\n",
    "        y=sigmoid(x[delays,in_nodes])\n",
    "        dx[n1:n2]=sigmoid(np.array([F(*y[j]) for j,F in enumerate(f[n1:n2])]))\n",
    "    return (-x[t]+dx+epsilon)/np.choose(np.rint(x[t]).astype(int),tau)\n",
    "\n",
    "@timer\n",
    "def euler_dde_hold(x,\n",
    "                   dx,\n",
    "                   dt,\n",
    "                   T,\n",
    "                   hold,\n",
    "                   initial_state,\n",
    "                   deriv,\n",
    "                   delays,\n",
    "                   node_bounds,\n",
    "                   adj_matrices,\n",
    "                   delay_matrices\n",
    "                   **kwargs):\n",
    "    max_delay=np.max([np.max(delays) for delays in delay_matrices])\n",
    "    delay_matrices=[-delays for delays in delay_matrices]\n",
    "    max_hold=np.max(hold)\n",
    "    for t in range(max_delay,max_hold):\n",
    "        delays+=t\n",
    "        holds=np.ravel(np.argwhere(hold>=t))\n",
    "        x[t,holds]=initial_state[holds]\n",
    "        x[t+1]=x[t]+dt*deriv(t=t,x=x,delays=delays,**kwargs)\n",
    "    for t in range(max_hold,T-1):\n",
    "        delays+=t\n",
    "        x[t+1]=x[t]+dt*deriv(t=t,x=x,delays=delays,**kwargs)"
   ]
  }
 ],
 "metadata": {
  "kernelspec": {
   "display_name": "Python 3",
   "language": "python",
   "name": "python3"
  }
 },
 "nbformat": 4,
 "nbformat_minor": 5
}
