{
 "cells": [
  {
   "cell_type": "code",
   "execution_count": null,
   "id": "following-ownership",
   "metadata": {},
   "outputs": [],
   "source": [
    "# default_exp models"
   ]
  },
  {
   "cell_type": "markdown",
   "id": "demographic-window",
   "metadata": {},
   "source": [
    "# models\n",
    "> a"
   ]
  },
  {
   "cell_type": "code",
   "execution_count": null,
   "id": "subjective-qualification",
   "metadata": {},
   "outputs": [],
   "source": [
    "#hide\n",
    "from nbdev import *\n",
    "from nbdev.imports import *\n",
    "from nbdev.export import *\n",
    "from nbdev.sync import *\n",
    "from nbdev.showdoc import *"
   ]
  },
  {
   "cell_type": "code",
   "execution_count": null,
   "id": "opened-employer",
   "metadata": {},
   "outputs": [],
   "source": [
    "#hide\n",
    "%load_ext autoreload\n",
    "%autoreload 2"
   ]
  },
  {
   "cell_type": "code",
   "execution_count": null,
   "id": "maritime-brain",
   "metadata": {},
   "outputs": [
    {
     "name": "stderr",
     "output_type": "stream",
     "text": [
      "C:\\Anaconda3\\lib\\site-packages\\numpy\\_distributor_init.py:32: UserWarning: loaded more than 1 DLL from .libs:\n",
      "C:\\Anaconda3\\lib\\site-packages\\numpy\\.libs\\libopenblas.NOIJJG62EMASZI6NYURL6JBKM4EVBGM7.gfortran-win_amd64.dll\n",
      "C:\\Anaconda3\\lib\\site-packages\\numpy\\.libs\\libopenblas.PYQHXLVVQ7VESDPUVUADXEVJOBGHJPAY.gfortran-win_amd64.dll\n",
      "  stacklevel=1)\n"
     ]
    }
   ],
   "source": [
    "#export\n",
    "import networkx as nx\n",
    "import numpy as np\n",
    "import typing\n",
    "from typing import Optional, Tuple, Dict, Callable, Union, Mapping, Sequence, Iterable, Hashable, List, Any\n",
    "from collections import namedtuple\n",
    "import sidis\n",
    "from sidis import *"
   ]
  },
  {
   "cell_type": "code",
   "execution_count": null,
   "id": "sorted-entity",
   "metadata": {},
   "outputs": [],
   "source": [
    "import networkm.network\n",
    "from networkm.network import *"
   ]
  },
  {
   "cell_type": "code",
   "execution_count": null,
   "id": "turkish-columbia",
   "metadata": {},
   "outputs": [
    {
     "data": {
      "text/plain": [
       "<networkm.network.Network object at 0x00000281DB67C048>\n",
       "|Node|Predecessors|Successors|\n",
       "|2   |3, 0, 2     |2, 1      |\n",
       "|1   |1, 2        |1, 0      |\n",
       "|0   |1           |2         |\n",
       "|3   |            |2         |"
      ]
     },
     "execution_count": null,
     "metadata": {},
     "output_type": "execute_result"
    }
   ],
   "source": [
    "g=ring(left=True,right=False,loop=False)\n",
    "g.add_edges_from([(2,2),(3,2),(1,1)])\n",
    "\n",
    "for i,n in enumerate(g.nodes):\n",
    "    g.nodes[n]['n']=i\n",
    "    \n",
    "for i,e in enumerate(g.edges):\n",
    "    g.edges[e]['delay']=i\n",
    "    \n",
    "G=Network(g,relabel=False)\n",
    "G"
   ]
  },
  {
   "cell_type": "code",
   "execution_count": null,
   "id": "third-magazine",
   "metadata": {},
   "outputs": [
    {
     "name": "stdout",
     "output_type": "stream",
     "text": [
      "[(2, 2, {'delay': 4}), (2, 1, {'delay': 3}), (1, 1, {'delay': 2}), (1, 0, {'delay': 1}), (0, 2, {'delay': 0}), (3, 2, {'delay': 5})]\n",
      "[(2, {'n': 2}), (1, {'n': 1}), (0, {'n': 0}), (3, {'n': 3})]\n"
     ]
    }
   ],
   "source": [
    "print(G.edges(data=True))\n",
    "print(G.nodes(data=True))"
   ]
  },
  {
   "cell_type": "code",
   "execution_count": null,
   "id": "vulnerable-fruit",
   "metadata": {},
   "outputs": [],
   "source": [
    "#export\n",
    "class NetworkModel(Network):\n",
    "    '''\n",
    "    Generic network model class. Has base functionality for incorporating\n",
    "    a network and simulating its dynamics, as well as executing arbitrary \n",
    "    routines. Can pass a network `g`, `node_data`, `edge_data`, and `kwargs`\n",
    "    which get placed as attributes. `routines` is a list of functions,\n",
    "    args, kwargs, and optional string attributes, which specify a list\n",
    "    of functions to execute over the args and kwargs, and whether to set\n",
    "    the result as an attribute of the model. This allows for arbitrary\n",
    "    executions of routines. Finally, `derivative`, `integrator`, and\n",
    "    `visualizer` specify the state-change and plotting functions.\n",
    "    '''\n",
    "    def __init__(self,\n",
    "                 g : Union[None,Network,nx.MultiDiGraph] = None,\n",
    "                 node_data : Dict = {},\n",
    "                 edge_data : Dict = {},\n",
    "                 routines : List[Tuple[callable,tuple,dict,str]] = [(None,(),{},None)],\n",
    "                 derivative : Optional[callable] = None,\n",
    "                 integrator : Optional[callable] = None,\n",
    "                 visualizer : Optional[callable] = None,\n",
    "                 exclusions : List[str] = ['self'],\n",
    "                 *args,\n",
    "                 **kwargs\n",
    "                ):\n",
    "        \n",
    "        self.__dict__.update({k:v for k,v in locals().items() if k not in exclusions})\n",
    "        \n",
    "        super().__init__(g,relabel=True,view='out')\n",
    "        \n",
    "        self.give(node_data=node_data,edge_data=edge_data)\n",
    "        \n",
    "        self.routine(routines)\n",
    "\n",
    "        \n",
    "        def give(self,node_data=None,edge_data=None,model_data=None,nodes=None,edges=None):\n",
    "            self.give_nodes(data=node_data,nodes=nodes,**node_data)\n",
    "            self.give_edges(data=edge_data,edges=edges,**edge_data)\n",
    "            self.give_self(data=model_data,**model_data)\n",
    "            self.node_data(save=True)\n",
    "            self.edge_data(save=True)\n",
    "\n",
    "        def derive(self,*args,**kwargs):\n",
    "            res = self.derivative(*args,**kwargs)\n",
    "            if res:\n",
    "                return res\n",
    "        @timer    \n",
    "        def integrate(self,*args,**kwargs):\n",
    "            res = self.integrator(*args,**kwargs)\n",
    "            if res:\n",
    "                return res\n",
    "        \n",
    "        def visualize(self,*args,**kwargs):\n",
    "            res = self.visualizer(*args,**kwargs)\n",
    "            if res:\n",
    "                return res\n",
    "        \n",
    "        def routine(self,routines=None):\n",
    "            if routines is None:\n",
    "                routines=self.routines\n",
    "            res = []\n",
    "            for tup in routines:\n",
    "                if len(tup)==3: #return func eval\n",
    "                    f,args,kwargs = tup\n",
    "                    try:\n",
    "                        res += [f(*args,**kwargs)]\n",
    "                    except:\n",
    "                        pass\n",
    "                elif len(tup) == 4: #set eval as str\n",
    "                    f,args,kwargs,attr = tup\n",
    "                    try:\n",
    "                        temp=f(*args,**kwargs)\n",
    "                        setattr(self,attr,temp)\n",
    "                    except:\n",
    "                        pass\n",
    "            if res:\n",
    "                return res"
   ]
  },
  {
   "cell_type": "code",
   "execution_count": null,
   "id": "expensive-terrorism",
   "metadata": {},
   "outputs": [],
   "source": [
    "#export\n",
    "def dde_iter(G,delay_key='delay'):\n",
    "    res=[]\n",
    "    node_index=0\n",
    "    for deg,nodes in G.sorting.items():\n",
    "        if deg==0:\n",
    "            pass\n",
    "        else:\n",
    "            L=len(nodes)\n",
    "            temp=[]\n",
    "            temp+=[(node_index,node_index+L)]\n",
    "            temp+=[np.array([list(G.predecessors(n)) for n in nodes])]\n",
    "            temp+=[np.array([G.edges[e][delay_key] \\\n",
    "                for e in G.in_edges(nodes,keys=True)]).reshape((len(nodes),deg))]\n",
    "            res+=[temp]\n",
    "            node_index+=L\n",
    "    return res"
   ]
  },
  {
   "cell_type": "code",
   "execution_count": null,
   "id": "ahead-invite",
   "metadata": {},
   "outputs": [],
   "source": [
    "g=ring(left=True,right=False,loop=False)\n",
    "g.add_edges_from([(2,2),(3,2),(1,1)])\n",
    "\n",
    "for i,n in enumerate(g.nodes):\n",
    "    g.nodes[n]['n']=i\n",
    "    \n",
    "for i,e in enumerate(g.edges):\n",
    "    g.edges[e]['delay']=i\n",
    "    \n",
    "G=Network(g,relabel=False)\n",
    "#G.relabel()\n",
    "#G"
   ]
  },
  {
   "cell_type": "code",
   "execution_count": null,
   "id": "bronze-sleeve",
   "metadata": {},
   "outputs": [
    {
     "data": {
      "text/plain": [
       "{3: [2], 2: [1], 1: [0], 0: [3]}"
      ]
     },
     "execution_count": null,
     "metadata": {},
     "output_type": "execute_result"
    }
   ],
   "source": [
    "G.sorting"
   ]
  },
  {
   "cell_type": "code",
   "execution_count": null,
   "id": "twenty-edgar",
   "metadata": {},
   "outputs": [
    {
     "data": {
      "text/plain": [
       "[[(0, 1), array([[3, 0, 2]]), array([[5, 0, 4]])],\n",
       " [(1, 2), array([[1, 2]]), array([[2, 3]])],\n",
       " [(2, 3), array([[1]]), array([[1]])]]"
      ]
     },
     "execution_count": null,
     "metadata": {},
     "output_type": "execute_result"
    }
   ],
   "source": [
    "dde_iter(G,delay_key='delay')"
   ]
  },
  {
   "cell_type": "code",
   "execution_count": null,
   "id": "offshore-measurement",
   "metadata": {},
   "outputs": [
    {
     "data": {
      "text/plain": [
       "{3: [2], 2: [1], 1: [0], 0: [3]}"
      ]
     },
     "execution_count": null,
     "metadata": {},
     "output_type": "execute_result"
    }
   ],
   "source": [
    "G.sorting"
   ]
  },
  {
   "cell_type": "code",
   "execution_count": null,
   "id": "false-birthday",
   "metadata": {},
   "outputs": [
    {
     "name": "stdout",
     "output_type": "stream",
     "text": [
      "3 [2]\n",
      "(1, 3)\n",
      "[(3, 2), (0, 2), (2, 2)]\n",
      "[array([5, 0, 4])]\n",
      "2 [1]\n",
      "(1, 2)\n",
      "[(1, 1), (2, 1)]\n",
      "[array([2, 3])]\n",
      "1 [0]\n",
      "(1, 1)\n",
      "[(1, 0)]\n",
      "[array([1])]\n",
      "0 [3]\n",
      "(1, 0)\n",
      "[]\n",
      "[array([], dtype=float64)]\n"
     ]
    }
   ],
   "source": [
    "for deg,nodes in G.sorting.items():\n",
    "    print(deg,nodes)\n",
    "    print((len(nodes),deg))\n",
    "    print(G.in_edges(nodes))\n",
    "    print([np.array([G.edges[e]['delay'] for e in G.in_edges(nodes,keys=True)])])"
   ]
  },
  {
   "cell_type": "code",
   "execution_count": null,
   "id": "seeing-regular",
   "metadata": {},
   "outputs": [
    {
     "data": {
      "text/plain": [
       "{3: [2], 2: [1], 1: [0], 0: [3]}"
      ]
     },
     "execution_count": null,
     "metadata": {},
     "output_type": "execute_result"
    }
   ],
   "source": [
    "G.sorting"
   ]
  },
  {
   "cell_type": "code",
   "execution_count": null,
   "id": "mature-military",
   "metadata": {},
   "outputs": [
    {
     "name": "stdout",
     "output_type": "stream",
     "text": [
      "[3, 0, 2]\n",
      "3\n",
      "[1, 2]\n",
      "2\n",
      "[1]\n",
      "1\n",
      "[]\n",
      "0\n"
     ]
    }
   ],
   "source": [
    "for n in G.nodes:\n",
    "    print(list(G.predecessors(n)))\n",
    "    print(G.in_degree(n))"
   ]
  },
  {
   "cell_type": "code",
   "execution_count": null,
   "id": "false-rough",
   "metadata": {},
   "outputs": [],
   "source": []
  }
 ],
 "metadata": {
  "kernelspec": {
   "display_name": "Python 3",
   "language": "python",
   "name": "python3"
  }
 },
 "nbformat": 4,
 "nbformat_minor": 5
}
