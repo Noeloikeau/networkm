{
 "cells": [
  {
   "cell_type": "code",
   "execution_count": null,
   "id": "welcome-extra",
   "metadata": {},
   "outputs": [],
   "source": [
    "# default_exp graph_functions"
   ]
  },
  {
   "cell_type": "markdown",
   "id": "invalid-graham",
   "metadata": {},
   "source": [
    "# Graph Functions\n",
    "\n",
    "> Operations on networkx MultiDiGraph objects, including assigning and obtaining attributes from nodes and edges, converting edges into nodes, and sorting and labeling graphs. "
   ]
  },
  {
   "cell_type": "code",
   "execution_count": null,
   "id": "rubber-webmaster",
   "metadata": {},
   "outputs": [],
   "source": [
    "#hide\n",
    "from nbdev import *\n",
    "from nbdev.imports import *\n",
    "from nbdev.export import *\n",
    "from nbdev.sync import *\n",
    "from nbdev.showdoc import *"
   ]
  },
  {
   "cell_type": "code",
   "execution_count": null,
   "id": "fitted-steal",
   "metadata": {},
   "outputs": [],
   "source": [
    "#hide\n",
    "%load_ext autoreload\n",
    "%autoreload 2"
   ]
  },
  {
   "cell_type": "code",
   "execution_count": null,
   "id": "ongoing-tennessee",
   "metadata": {},
   "outputs": [],
   "source": [
    "#export\n",
    "import warnings\n",
    "with warnings.catch_warnings(): #ignore warnings\n",
    "    warnings.simplefilter(\"ignore\")\n",
    "    import networkx as nx\n",
    "    import numpy as np\n",
    "    import sidis\n",
    "    rng=sidis.RNG(0)\n",
    "    import matplotlib.pyplot as plt\n",
    "    import typing\n",
    "    from typing import Optional, Tuple, Dict, Callable, Union, Mapping, Sequence, Iterable, Hashable, List, Any\n",
    "    from collections import namedtuple"
   ]
  },
  {
   "cell_type": "code",
   "execution_count": null,
   "id": "skilled-burning",
   "metadata": {},
   "outputs": [],
   "source": [
    "#export\n",
    "def ring(N : int = 3,\n",
    "         left : bool = True,\n",
    "         right : bool = False,\n",
    "         loop : bool = False):\n",
    "    '''\n",
    "    Return `g`, a ring topology networkx graph with `N` nodes.\n",
    "    Booleans `left`, `right`, `loop` determine the directed edges.\n",
    "    '''\n",
    "\n",
    "    g=nx.MultiDiGraph()\n",
    "\n",
    "    e=[]\n",
    "\n",
    "    if left:\n",
    "        e+=[(i,(i-1)%N) for i in range(N)]\n",
    "    if right:\n",
    "        e+=[(i,(i+1)%N) for i in range(N)]\n",
    "    if loop:\n",
    "        e+=[(i,i) for i in range(N)]\n",
    "\n",
    "    g.add_nodes_from([i for i in range(N)])\n",
    "    g.add_edges_from(e)\n",
    "\n",
    "    return g"
   ]
  },
  {
   "cell_type": "code",
   "execution_count": null,
   "id": "significant-plaza",
   "metadata": {},
   "outputs": [],
   "source": [
    "g=ring(N=3,left=True,right=True,loop=True)"
   ]
  },
  {
   "cell_type": "code",
   "execution_count": null,
   "id": "surprised-christianity",
   "metadata": {},
   "outputs": [],
   "source": [
    "#exporti\n",
    "def table(iterable : Iterable, header : Iterable[str]):\n",
    "    '''\n",
    "    Creates a simple ASCII table from an iterable and a header.\n",
    "    Modified from\n",
    "    https://stackoverflow.com/questions/5909873/how-can-i-pretty-print-ascii-tables-with-python\n",
    "    '''\n",
    "    max_len = [len(x) for x in header]\n",
    "    for row in iterable:\n",
    "        row = [row] if type(row) not in (list, tuple) else row\n",
    "        for index, col in enumerate(row):\n",
    "            if max_len[index] < len(str(col)):\n",
    "                max_len[index] = len(str(col))\n",
    "\n",
    "    output = '|' + ''.join([h + ' ' * (l - len(h)) + '|' for h, l in zip(header, max_len)]) + '\\n'\n",
    "\n",
    "    for row in iterable:\n",
    "        row = [row] if type(row) not in (list, tuple) else row\n",
    "        output += '|' + ''.join([str(c) + ' ' * (l - len(str(c))) + '|' for c, l in zip(row, max_len)]) + '\\n'\n",
    "\n",
    "    return output\n"
   ]
  },
  {
   "cell_type": "code",
   "execution_count": null,
   "id": "committed-playlist",
   "metadata": {},
   "outputs": [],
   "source": [
    "#export\n",
    "def print_graph(g : nx.MultiDiGraph,\n",
    "               string=False):\n",
    "    '''\n",
    "    Print the 'node', predecessors', and 'successors' for every node in graph `g`.\n",
    "    The predecessors are the nodes flowing into a node, \n",
    "    and the successors are the nodes flowing out.\n",
    "    \n",
    "    Example use:\n",
    "        g=ring(N=3,left=True,right=True,loop=True)\n",
    "        print_graph(g)\n",
    "    '''\n",
    "    data = [[n, list(g.predecessors(n)), list(g.successors(n))] for n in g.nodes]\n",
    "    for i in range(len(data)):\n",
    "        data[i][1]=', '.join([str(i) for i in data[i][1]])\n",
    "        data[i][2]=', '.join([str(i) for i in data[i][2]])\n",
    "\n",
    "    header=['Node', 'Predecessors', 'Successors']\n",
    "    \n",
    "    if not string:\n",
    "        print(table(data,header))\n",
    "    else:\n",
    "        return table(data,header)\n"
   ]
  },
  {
   "cell_type": "code",
   "execution_count": null,
   "id": "reasonable-ceremony",
   "metadata": {},
   "outputs": [
    {
     "name": "stdout",
     "output_type": "stream",
     "text": [
      "|Node|Predecessors|Successors|\n",
      "|0   |1, 2, 0     |2, 1, 0   |\n",
      "|1   |2, 0, 1     |0, 2, 1   |\n",
      "|2   |0, 1, 2     |1, 0, 2   |\n",
      "\n"
     ]
    }
   ],
   "source": [
    "print_graph(g)"
   ]
  },
  {
   "cell_type": "code",
   "execution_count": null,
   "id": "bizarre-survival",
   "metadata": {},
   "outputs": [],
   "source": [
    "#export\n",
    "def parse_kwargs(**kwargs):\n",
    "    '''\n",
    "    Evaluate delayed function calls by assigning \n",
    "    attributes as (func, *arg) tuples.\n",
    "    Parse keyword arguments with the convention that\n",
    "    kwarg = tuple ( callable , *args) be returned as\n",
    "    kwarg = callable ( *args). \n",
    "    Example: kwargs = {a : (np.random.random,1)}\n",
    "    becomes  kwargs = {a : np.random.random(1)} \n",
    "    each time this func is called.\n",
    "    '''\n",
    "    newkwargs={k:v for k,v in kwargs.items()}\n",
    "    for k,v in kwargs.items():\n",
    "        if type(v) is tuple and callable(v[0]):\n",
    "            if len(v)==1:\n",
    "                newkwargs[k]=v[0]()\n",
    "            else:\n",
    "                newkwargs[k]=v[0](*v[1:])\n",
    "    return newkwargs"
   ]
  },
  {
   "cell_type": "code",
   "execution_count": null,
   "id": "skilled-pastor",
   "metadata": {},
   "outputs": [
    {
     "data": {
      "text/plain": [
       "{'a': array([0.31584716])}"
      ]
     },
     "execution_count": null,
     "metadata": {},
     "output_type": "execute_result"
    }
   ],
   "source": [
    "parse_kwargs(a = (np.random.random,1) ) #evaluate func"
   ]
  },
  {
   "cell_type": "code",
   "execution_count": null,
   "id": "crazy-print",
   "metadata": {},
   "outputs": [
    {
     "data": {
      "text/plain": [
       "{'a': array([0.50685779])}"
      ]
     },
     "execution_count": null,
     "metadata": {},
     "output_type": "execute_result"
    }
   ],
   "source": [
    "parse_kwargs(a = (np.random.random,1) ) #call again; diff result"
   ]
  },
  {
   "cell_type": "code",
   "execution_count": null,
   "id": "indonesian-cause",
   "metadata": {},
   "outputs": [
    {
     "data": {
      "text/plain": [
       "{'b': 1, 'a': <function RandomState.random>}"
      ]
     },
     "execution_count": null,
     "metadata": {},
     "output_type": "execute_result"
    }
   ],
   "source": [
    "parse_kwargs(b=1, a = np.random.random) #no arg"
   ]
  },
  {
   "cell_type": "code",
   "execution_count": null,
   "id": "measured-filing",
   "metadata": {},
   "outputs": [
    {
     "data": {
      "text/plain": [
       "{'b': 1, 'a': 0.8743102133921122}"
      ]
     },
     "execution_count": null,
     "metadata": {},
     "output_type": "execute_result"
    }
   ],
   "source": [
    "parse_kwargs(b=1, a = (np.random.random,) ) #default arg"
   ]
  },
  {
   "cell_type": "code",
   "execution_count": null,
   "id": "outstanding-blond",
   "metadata": {},
   "outputs": [],
   "source": [
    "#export\n",
    "def give_nodes(g : nx.MultiDiGraph,\n",
    "               data : Dict[Hashable,dict] = None,\n",
    "               nodes : Iterable = None,\n",
    "               **kwargs):\n",
    "    '''\n",
    "    Parse and apply any 'kwargs' to a set of 'nodes'.\n",
    "    If given, 'data' is a dict-of-dicts keyed by node.\n",
    "    The inner dict is given to the corresponding node.\n",
    "    '''\n",
    "    if nodes is None:\n",
    "        nodes=g.nodes\n",
    "    \n",
    "    if kwargs:\n",
    "        [sidis.give(g.nodes[n],**parse_kwargs(**kwargs)) for n in nodes]\n",
    "    \n",
    "    if data:\n",
    "        for k,v in data.items():\n",
    "            try:\n",
    "                g.nodes[k].update(parse_kwargs(**v))\n",
    "            except KeyError:\n",
    "                pass\n"
   ]
  },
  {
   "cell_type": "code",
   "execution_count": null,
   "id": "northern-screening",
   "metadata": {},
   "outputs": [
    {
     "data": {
      "text/plain": [
       "NodeDataView({0: {'a': array([0.75104067])}, 1: {'a': array([0.08850452])}, 2: {'a': array([0.14673088])}})"
      ]
     },
     "execution_count": null,
     "metadata": {},
     "output_type": "execute_result"
    }
   ],
   "source": [
    "give_nodes(g,a=(np.random.random,1))\n",
    "g.nodes(data=True)"
   ]
  },
  {
   "cell_type": "code",
   "execution_count": null,
   "id": "ready-table",
   "metadata": {},
   "outputs": [
    {
     "data": {
      "text/plain": [
       "NodeDataView({0: {'a': array([0.75104067]), 'b': 1}, 1: {'a': array([0.08850452])}, 2: {'a': array([0.14673088])}})"
      ]
     },
     "execution_count": null,
     "metadata": {},
     "output_type": "execute_result"
    }
   ],
   "source": [
    "give_nodes(g,{0:dict(b=1)})\n",
    "g.nodes(data=True)"
   ]
  },
  {
   "cell_type": "code",
   "execution_count": null,
   "id": "chemical-buddy",
   "metadata": {},
   "outputs": [
    {
     "data": {
      "text/plain": [
       "NodeDataView({0: {'a': array([0.75104067]), 'b': 1}, 1: {'a': array([0.08850452])}, 2: {'a': array([0.14673088]), 'c': 2}})"
      ]
     },
     "execution_count": null,
     "metadata": {},
     "output_type": "execute_result"
    }
   ],
   "source": [
    "give_nodes(g,nodes=[2],c=2)\n",
    "g.nodes(data=True)"
   ]
  },
  {
   "cell_type": "code",
   "execution_count": null,
   "id": "seasonal-advance",
   "metadata": {},
   "outputs": [],
   "source": [
    "#exporti\n",
    "def parse_edges(edges : Union[tuple,List[tuple]], \n",
    "                default_key : Hashable = 0\n",
    "               ):\n",
    "    '''\n",
    "    Parse a single edge or list of edges\n",
    "    into a list of 3-tuples for iterating over \n",
    "    a MultiDiGraph, which requires keys. \n",
    "    '''\n",
    "    if type(edges) is tuple:\n",
    "        edges=[edges]\n",
    "    if type(edges) is not list:\n",
    "        edges=list(edges)\n",
    "    for i in range(len(edges)):\n",
    "        if len(edges[i])==4: #discard data, last entry\n",
    "            edges[i]=(edges[i][0],edges[i][1],edges[i][2])\n",
    "        if len(edges[i])==2: #include key, 3rd entry\n",
    "            edges[i]=(edges[i][0],edges[i][1],default_key)\n",
    "    return edges"
   ]
  },
  {
   "cell_type": "code",
   "execution_count": null,
   "id": "cleared-professor",
   "metadata": {},
   "outputs": [],
   "source": [
    "#export\n",
    "def give_edges(g : nx.MultiDiGraph,\n",
    "               data : Dict[Hashable,dict] = None,\n",
    "               edges : Iterable = None,\n",
    "               **kwargs):\n",
    "    '''\n",
    "    Parse and apply any 'kwargs' to a set of 'edges'.\n",
    "    If given, 'data' is a dict-of-dicts keyed by edge.\n",
    "    The inner dict is given to the corresponding edge.\n",
    "    '''\n",
    "    if edges is None:\n",
    "        edges=g.edges\n",
    "        \n",
    "    edges = parse_edges(edges)\n",
    "    \n",
    "    if kwargs:\n",
    "        [sidis.give(g.edges[e],**parse_kwargs(**kwargs)) for e in edges]\n",
    "    \n",
    "    if data:\n",
    "        for k,v in data.items():\n",
    "            try:\n",
    "                g.edges[k].update(parse_kwargs(**v))\n",
    "            except:\n",
    "                pass"
   ]
  },
  {
   "cell_type": "code",
   "execution_count": null,
   "id": "caroline-halloween",
   "metadata": {},
   "outputs": [
    {
     "data": {
      "text/plain": [
       "OutMultiEdgeDataView([(0, 2, {'d': 1}), (0, 1, {'d': 1}), (0, 0, {'d': 1}), (1, 0, {'d': 1}), (1, 2, {'d': 1}), (1, 1, {'d': 1}), (2, 1, {'d': 1}), (2, 0, {'d': 1}), (2, 2, {'d': 1})])"
      ]
     },
     "execution_count": null,
     "metadata": {},
     "output_type": "execute_result"
    }
   ],
   "source": [
    "give_edges(g,d=1)\n",
    "g.edges(data=True)"
   ]
  },
  {
   "cell_type": "code",
   "execution_count": null,
   "id": "decreased-probe",
   "metadata": {},
   "outputs": [
    {
     "data": {
      "text/plain": [
       "OutMultiEdgeDataView([(0, 2, {'d': 0}), (0, 1, {'d': 1}), (0, 0, {'d': 2}), (1, 0, {'d': 3}), (1, 2, {'d': 4}), (1, 1, {'d': 5}), (2, 1, {'d': 6}), (2, 0, {'d': 7}), (2, 2, {'d': 8})])"
      ]
     },
     "execution_count": null,
     "metadata": {},
     "output_type": "execute_result"
    }
   ],
   "source": [
    "give_edges(g,{e:dict(d=i) for i,e in enumerate(g.edges)})\n",
    "g.edges(data=True)"
   ]
  },
  {
   "cell_type": "code",
   "execution_count": null,
   "id": "divided-clock",
   "metadata": {},
   "outputs": [],
   "source": [
    "#export\n",
    "def node_attrs(g):\n",
    "    '''\n",
    "    Unique node data keys.\n",
    "    '''\n",
    "    attrs=[]\n",
    "    for n in g.nodes:\n",
    "        for attr in g.nodes[n]:\n",
    "            attrs+=[attr]\n",
    "    return list(set(attrs))"
   ]
  },
  {
   "cell_type": "code",
   "execution_count": null,
   "id": "responsible-sentence",
   "metadata": {},
   "outputs": [
    {
     "data": {
      "text/plain": [
       "['a', 'c', 'b']"
      ]
     },
     "execution_count": null,
     "metadata": {},
     "output_type": "execute_result"
    }
   ],
   "source": [
    "node_attrs(g)"
   ]
  },
  {
   "cell_type": "code",
   "execution_count": null,
   "id": "northern-implement",
   "metadata": {},
   "outputs": [],
   "source": [
    "#export\n",
    "def edge_attrs(g):\n",
    "    '''\n",
    "    Unique edge data keys.\n",
    "    '''\n",
    "    attrs=[]\n",
    "    for e in g.edges:\n",
    "        for attr in g.edges[e]:\n",
    "            attrs+=[attr]\n",
    "    return list(set(attrs))"
   ]
  },
  {
   "cell_type": "code",
   "execution_count": null,
   "id": "permanent-sensitivity",
   "metadata": {},
   "outputs": [
    {
     "data": {
      "text/plain": [
       "['d']"
      ]
     },
     "execution_count": null,
     "metadata": {},
     "output_type": "execute_result"
    }
   ],
   "source": [
    "edge_attrs(g)"
   ]
  },
  {
   "cell_type": "code",
   "execution_count": null,
   "id": "revised-caution",
   "metadata": {},
   "outputs": [],
   "source": [
    "#export\n",
    "def node_data(g,*args):\n",
    "    '''\n",
    "    Return node attributes 'args' as an array.\n",
    "    NOTE: The ordering of the array corresponds to the\n",
    "    ordering of the nodes in the graph.\n",
    "    '''\n",
    "    if not args:\n",
    "        args=node_attrs(g)\n",
    "\n",
    "    node_data={}\n",
    "\n",
    "    [sidis.give(node_data,str(arg),\n",
    "                np.squeeze(np.array([sidis.get(g.nodes[n],arg) for n in g.nodes])))\n",
    "        for arg in args]\n",
    "\n",
    "    return node_data"
   ]
  },
  {
   "cell_type": "code",
   "execution_count": null,
   "id": "julian-concord",
   "metadata": {},
   "outputs": [
    {
     "data": {
      "text/plain": [
       "{'a': array([0.75104067, 0.08850452, 0.14673088]),\n",
       " 'c': array([None, None, 2], dtype=object),\n",
       " 'b': array([1, None, None], dtype=object)}"
      ]
     },
     "execution_count": null,
     "metadata": {},
     "output_type": "execute_result"
    }
   ],
   "source": [
    "node_data(g)"
   ]
  },
  {
   "cell_type": "code",
   "execution_count": null,
   "id": "brutal-mathematics",
   "metadata": {},
   "outputs": [],
   "source": [
    "#export\n",
    "def edge_data(g,*args):\n",
    "    '''\n",
    "    Return edge attributes 'args' as an array.\n",
    "    NOTE: The ordering of the array corresponds to the\n",
    "    ordering of the edges in the graph.\n",
    "    '''\n",
    "    if not args:\n",
    "        args=edge_attrs(g)\n",
    "\n",
    "    edge_data={}\n",
    "\n",
    "    [sidis.give(edge_data,str(arg), np.array([sidis.get(g.edges[e],arg) for e in g.edges]))\n",
    "        for arg in args]\n",
    "\n",
    "    return edge_data"
   ]
  },
  {
   "cell_type": "code",
   "execution_count": null,
   "id": "packed-maple",
   "metadata": {},
   "outputs": [
    {
     "data": {
      "text/plain": [
       "{'d': array([0, 1, 2, 3, 4, 5, 6, 7, 8])}"
      ]
     },
     "execution_count": null,
     "metadata": {},
     "output_type": "execute_result"
    }
   ],
   "source": [
    "edge_data(g)"
   ]
  },
  {
   "cell_type": "code",
   "execution_count": null,
   "id": "sealed-oxford",
   "metadata": {},
   "outputs": [],
   "source": [
    "#export\n",
    "def argwhere(*args : List[np.ndarray]):\n",
    "    '''\n",
    "    Simplified version of np.argwhere for multiple arrays.\n",
    "    Returns list of indices where args hold.\n",
    "    '''\n",
    "    with warnings.catch_warnings(): #ignore numpy warning\n",
    "        warnings.simplefilter(\"ignore\")\n",
    "        if not args:\n",
    "            return None\n",
    "        elif len(args)==1:\n",
    "            return list(np.ravel(np.argwhere(args[0])).astype(int))\n",
    "        else:\n",
    "            i=[] #indices\n",
    "            for arg in args:\n",
    "                res=list(np.ravel(np.argwhere(arg)).astype(int))\n",
    "                i+=[res]\n",
    "            if len(i)==1:\n",
    "                i=i[0]\n",
    "            if np.any(i):\n",
    "                return list(i)"
   ]
  },
  {
   "cell_type": "code",
   "execution_count": null,
   "id": "amino-thunder",
   "metadata": {},
   "outputs": [
    {
     "data": {
      "text/plain": [
       "[[0], [1], [2], []]"
      ]
     },
     "execution_count": null,
     "metadata": {},
     "output_type": "execute_result"
    }
   ],
   "source": [
    "a=np.array([0,1,2])\n",
    "A=argwhere(a==0,a==1,a>1,a==10)\n",
    "A"
   ]
  },
  {
   "cell_type": "code",
   "execution_count": null,
   "id": "intelligent-teaching",
   "metadata": {},
   "outputs": [
    {
     "name": "stdout",
     "output_type": "stream",
     "text": [
      "[0]\n",
      "[1]\n",
      "[2]\n",
      "[]\n"
     ]
    }
   ],
   "source": [
    "for i in A:\n",
    "    print(a[i])"
   ]
  },
  {
   "cell_type": "code",
   "execution_count": null,
   "id": "featured-think",
   "metadata": {},
   "outputs": [],
   "source": [
    "#export\n",
    "def kwargwhere(g : nx.MultiDiGraph,**kwargs : Dict[str,Any]):\n",
    "    '''\n",
    "    Return the node and edges where\n",
    "    the kwarg equalities hold in the graph.\n",
    "    '''\n",
    "    node_k=node_attrs(g)\n",
    "    edge_k=edge_attrs(g)\n",
    "    node_i=[]\n",
    "    edge_i=[]\n",
    "    for k,v in kwargs.items():\n",
    "        n_i=[]\n",
    "        e_i=[]\n",
    "        if k in node_k:\n",
    "            for n in g.nodes:\n",
    "                if g.nodes[n].get(k)==v:\n",
    "                    n_i+=[n]\n",
    "            node_i+=[n_i]\n",
    "        if k in edge_k:\n",
    "            for e in g.edges:\n",
    "                if g.edges[e].get(k)==v:\n",
    "                    e_i+=[e]\n",
    "            edge_i+=[e_i]\n",
    "\n",
    "    if len(node_i)==1:\n",
    "        node_i=node_i[0]\n",
    "    if len(edge_i)==1:\n",
    "        edge_i=edge_i[0]\n",
    "    if node_i and edge_i:\n",
    "        return node_i,edge_i\n",
    "    elif node_i:\n",
    "        return node_i\n",
    "    elif edge_i:\n",
    "        return edge_i"
   ]
  },
  {
   "cell_type": "code",
   "execution_count": null,
   "id": "embedded-cooling",
   "metadata": {},
   "outputs": [
    {
     "name": "stdout",
     "output_type": "stream",
     "text": [
      "[(0, {'a': array([0.75104067]), 'b': 1}), (1, {'a': array([0.08850452])}), (2, {'a': array([0.14673088]), 'c': 2})]\n"
     ]
    }
   ],
   "source": [
    "print(g.nodes(data=True))"
   ]
  },
  {
   "cell_type": "code",
   "execution_count": null,
   "id": "secondary-howard",
   "metadata": {},
   "outputs": [
    {
     "data": {
      "text/plain": [
       "[0]"
      ]
     },
     "execution_count": null,
     "metadata": {},
     "output_type": "execute_result"
    }
   ],
   "source": [
    "kwargwhere(g,b=1)"
   ]
  },
  {
   "cell_type": "code",
   "execution_count": null,
   "id": "competent-prevention",
   "metadata": {},
   "outputs": [
    {
     "data": {
      "text/plain": [
       "[(0, 1, 0)]"
      ]
     },
     "execution_count": null,
     "metadata": {},
     "output_type": "execute_result"
    }
   ],
   "source": [
    "kwargwhere(g,d=1)"
   ]
  },
  {
   "cell_type": "code",
   "execution_count": null,
   "id": "registered-acoustic",
   "metadata": {},
   "outputs": [
    {
     "name": "stdout",
     "output_type": "stream",
     "text": [
      "[(0, 2, {'d': 0}), (0, 1, {'d': 1}), (0, 0, {'d': 2, 'b': 1}), (1, 0, {'d': 3}), (1, 2, {'d': 4}), (1, 1, {'d': 5}), (2, 1, {'d': 6}), (2, 0, {'d': 7}), (2, 2, {'d': 8})]\n"
     ]
    }
   ],
   "source": [
    "g.edges[(0,0,0)]['b']=1\n",
    "print(g.edges(data=True))"
   ]
  },
  {
   "cell_type": "code",
   "execution_count": null,
   "id": "corrected-magic",
   "metadata": {},
   "outputs": [
    {
     "data": {
      "text/plain": [
       "([0], [(0, 0, 0)])"
      ]
     },
     "execution_count": null,
     "metadata": {},
     "output_type": "execute_result"
    }
   ],
   "source": [
    "kwargwhere(g,b=1)"
   ]
  },
  {
   "cell_type": "code",
   "execution_count": null,
   "id": "fuzzy-hollow",
   "metadata": {},
   "outputs": [],
   "source": [
    "#export\n",
    "def where(g,*args,**kwargs):\n",
    "    '''\n",
    "    Combine the 'argwhere' and 'kwargwhere' functions for the graph.\n",
    "    '''\n",
    "    arg_i=argwhere(*args)\n",
    "    kwarg_i=kwargwhere(g,**kwargs)\n",
    "    if arg_i and kwarg_i:\n",
    "        return arg_i,kwarg_i\n",
    "    elif arg_i:\n",
    "        return arg_i\n",
    "    elif kwarg_i:\n",
    "        return kwarg_i"
   ]
  },
  {
   "cell_type": "code",
   "execution_count": null,
   "id": "impressive-refund",
   "metadata": {},
   "outputs": [
    {
     "data": {
      "text/plain": [
       "([0], ([0], [(0, 0, 0)]))"
      ]
     },
     "execution_count": null,
     "metadata": {},
     "output_type": "execute_result"
    }
   ],
   "source": [
    "where(g,node_data(g)['a']>0.5,b=1)"
   ]
  },
  {
   "cell_type": "code",
   "execution_count": null,
   "id": "racial-struggle",
   "metadata": {},
   "outputs": [],
   "source": [
    "#exporti\n",
    "def parse_lengths(g : nx.MultiDiGraph,\n",
    "                  edges : Union[tuple,List[tuple]],\n",
    "                  lengths : Union[str,int,List[int]] = 1) -> Union[list,List[list]]:\n",
    "    '''\n",
    "    Convert `lengths` corresponding to attributes of each edge into a list of lists.\n",
    "    `lengths` can be a single integer, an integer for each edge, or a string\n",
    "    giving the edge attribute holding the length.\n",
    "    '''\n",
    "    if type(lengths) is int:\n",
    "        lengths={e:lengths for e in edges}\n",
    "    elif type(lengths) is str:\n",
    "        lengths={e:g.edges[e].get(lengths) for e in edges}\n",
    "    return lengths"
   ]
  },
  {
   "cell_type": "code",
   "execution_count": null,
   "id": "arabic-rwanda",
   "metadata": {},
   "outputs": [],
   "source": [
    "#export\n",
    "def convert_edges(g : nx.MultiDiGraph,\n",
    "                  edges : Union[None,tuple,List[tuple]] = None,\n",
    "                  lengths : Union[str,int,dict] = 1,\n",
    "                  node_data : dict = {},\n",
    "                  label : callable = lambda g,node,iterable : len(g)+iterable,\n",
    "                  **edge_data\n",
    "                 ):\n",
    "    '''\n",
    "    Converts `edges` in `g` to paths of the given `lengths`. \n",
    "    The new paths follow a tree structure, and each new node\n",
    "    inherits `node_data` and is labeled with `label`.\n",
    "    The tree structure finds the roots (set of starting nodes)\n",
    "    in the list of `edges`, and then creates trunks corresponding\n",
    "    to the paths of maximum length for each node. Then, branches are\n",
    "    added from the trunk to each of the leaves (terminal nodes), \n",
    "    made from new nodes equal to the lengths associated with each path. \n",
    "    '''\n",
    "    \n",
    "    #default to all edges\n",
    "    if edges is None:\n",
    "        edges=g.edges\n",
    "        \n",
    "    #parse args\n",
    "    edges=parse_edges(edges=g.edges(keys=True),default_key=0)\n",
    "    lengths=parse_lengths(g=g,edges=edges,lengths=lengths)\n",
    "\n",
    "    #unique first nodes\n",
    "    roots=set([e[0] for e in edges])\n",
    "    \n",
    "    #max path lengths on a per-starting node basis\n",
    "    trunks={r:max([lengths[e] for e in g.out_edges(r,keys=True) if e in edges]) \n",
    "            for r in roots} \n",
    "    \n",
    "    #sort roots by longest trunk length to create largest trunks first\n",
    "    roots=sorted(roots,\n",
    "                 key=lambda r: trunks[r],\n",
    "                 reverse=True) \n",
    "    \n",
    "    #terminal nodes for each branch\n",
    "    leaves={r:list(g.successors(r)) for r in roots} \n",
    "\n",
    "    #now build trunks, then create branches from trunk to edges\n",
    "    for r in roots:\n",
    "        trunk=[label(g,node=r,iterable=i) for i in range(trunks[r])]\n",
    "        if trunk!=[]:\n",
    "            nx.add_path(g,[r]+trunk,**parse_kwargs(**edge_data))\n",
    "            give_nodes(g,nodes=trunk,**node_data)\n",
    "            for edge,length in lengths.items():\n",
    "                if edge[0]==r: #branch from root\n",
    "                    \n",
    "                    if length==trunks[r]: #go to leaf using trunk endpoint\n",
    "                        branch=[trunk[-1]]+[edge[1]] \n",
    "                        \n",
    "                    else: #create new branch from somewhere in trunk\n",
    "                        branch=[trunk[length-1]]+[edge[1]]\n",
    "                        \n",
    "                    nx.add_path(g,branch,**g.edges[edge]) #apply old edge data\n",
    "                        \n",
    "                    give_nodes(g,nodes=branch[:-1],**node_data)\n",
    "        \n",
    "    #trim old edges\n",
    "    for e in edges:\n",
    "        g.remove_edge(*e)\n",
    "        "
   ]
  },
  {
   "cell_type": "code",
   "execution_count": null,
   "id": "sixth-coverage",
   "metadata": {},
   "outputs": [
    {
     "name": "stdout",
     "output_type": "stream",
     "text": [
      "|Node|Predecessors|Successors|\n",
      "|0   |1           |2         |\n",
      "|1   |2           |0         |\n",
      "|2   |0           |1         |\n",
      "\n",
      "|Node|Predecessors|Successors|\n",
      "|0   |4           |3         |\n",
      "|1   |5           |4         |\n",
      "|2   |3           |5         |\n",
      "|3   |0           |2         |\n",
      "|4   |1           |0         |\n",
      "|5   |2           |1         |\n",
      "\n"
     ]
    }
   ],
   "source": [
    "g=ring()\n",
    "print_graph(g)\n",
    "convert_edges(g,lengths=1)\n",
    "print_graph(g)"
   ]
  },
  {
   "cell_type": "code",
   "execution_count": null,
   "id": "universal-picking",
   "metadata": {},
   "outputs": [
    {
     "name": "stdout",
     "output_type": "stream",
     "text": [
      "|Node|Predecessors|Successors|\n",
      "|a   |b           |c         |\n",
      "|c   |a, c, d     |b, c      |\n",
      "|b   |b, c        |a, b      |\n",
      "|d   |            |c         |\n",
      "\n",
      "[('a', 'c', {'delay': 0}), ('c', 'b', {'delay': 1}), ('c', 'c', {'delay': 2}), ('b', 'a', {'delay': 3}), ('b', 'b', {'delay': 4}), ('d', 'c', {'delay': 5})]\n"
     ]
    }
   ],
   "source": [
    "g=nx.MultiDiGraph()\n",
    "g.add_edges_from([('a','c'),('b','a'),('b','b'),('c','b'),('c','c'),('d','c')])\n",
    "print_graph(g)\n",
    "give_edges(g,{e:dict(delay=i) for i,e in enumerate(g.edges)})\n",
    "print(g.edges(data=True))"
   ]
  },
  {
   "cell_type": "code",
   "execution_count": null,
   "id": "architectural-observer",
   "metadata": {},
   "outputs": [
    {
     "name": "stdout",
     "output_type": "stream",
     "text": [
      "|Node|Predecessors|Successors|\n",
      "|a   |b_3         |          |\n",
      "|c   |d_5, c_2    |c_1       |\n",
      "|b   |b_4, c_1    |b_1       |\n",
      "|d   |            |d_1       |\n",
      "|d_1 |d           |d_2       |\n",
      "|d_2 |d_1         |d_3       |\n",
      "|d_3 |d_2         |d_4       |\n",
      "|d_4 |d_3         |d_5       |\n",
      "|d_5 |d_4         |c         |\n",
      "|b_1 |b           |b_2       |\n",
      "|b_2 |b_1         |b_3       |\n",
      "|b_3 |b_2         |b_4, a    |\n",
      "|b_4 |b_3         |b         |\n",
      "|c_1 |c           |c_2, b    |\n",
      "|c_2 |c_1         |c         |\n",
      "\n",
      "[('c', 'c_1', {'delay': 0}), ('b', 'b_1', {'delay': 0}), ('d', 'd_1', {'delay': 0}), ('d_1', 'd_2', {'delay': 0}), ('d_2', 'd_3', {'delay': 0}), ('d_3', 'd_4', {'delay': 0}), ('d_4', 'd_5', {'delay': 0}), ('d_5', 'c', {'delay': 5}), ('b_1', 'b_2', {'delay': 0}), ('b_2', 'b_3', {'delay': 0}), ('b_3', 'b_4', {'delay': 0}), ('b_3', 'a', {'delay': 3}), ('b_4', 'b', {'delay': 4}), ('c_1', 'c_2', {'delay': 0}), ('c_1', 'b', {'delay': 1}), ('c_2', 'c', {'delay': 2})]\n",
      "[('a', {}), ('c', {}), ('b', {}), ('d', {}), ('d_1', {'tau': 1}), ('d_2', {'tau': 1}), ('d_3', {'tau': 1}), ('d_4', {'tau': 1}), ('d_5', {'tau': 1}), ('b_1', {'tau': 1}), ('b_2', {'tau': 1}), ('b_3', {'tau': 1}), ('b_4', {'tau': 1}), ('c_1', {'tau': 1}), ('c_2', {'tau': 1})]\n"
     ]
    }
   ],
   "source": [
    "convert_edges(g,\n",
    "              edges=None,\n",
    "              lengths='delay',\n",
    "              node_data={'tau':1},\n",
    "              label=lambda g,node,iterable : str(node)+'_'+str(iterable+1),\n",
    "              delay=0\n",
    "             )\n",
    "print_graph(g)\n",
    "print(g.edges(data=True))\n",
    "print(g.nodes(data=True))"
   ]
  },
  {
   "cell_type": "code",
   "execution_count": null,
   "id": "academic-highlight",
   "metadata": {},
   "outputs": [],
   "source": [
    "#export\n",
    "def relabel_graph(g : nx.MultiDiGraph,\n",
    "            mapping : Union[None,callable,dict] = None):\n",
    "    '''\n",
    "    Relabel nodes in place with desired 'mapping', and store the \n",
    "    `mapping` and `inverse_mapping` as attributes of `g`. \n",
    "    Can be called again without args to relabel to the original map,\n",
    "    which switches the `mapping` and `inverse_mapping`.\n",
    "    If `mapping` is None and `g` has no `mapping`, \n",
    "    defaults to replacing nodes with integers.\n",
    "    If `mapping` is None and `g` has a `mapping`, uses that.\n",
    "    Otherwise, `mapping` is a callable or dict keyed with old node labels \n",
    "    as keys and new node labels as values.\n",
    "    '''\n",
    "    if mapping is None:\n",
    "        if not g.__dict__.get('mapping'):\n",
    "            mapping={n:i for i,n in enumerate(g.nodes)}\n",
    "        else:\n",
    "            mapping=g.mapping\n",
    "            \n",
    "    elif callable(mapping):\n",
    "        mapping=mapping(g)\n",
    "    \n",
    "    inverse_mapping={v:k for k,v in mapping.items()}\n",
    "    def relabel_nodes(G, mapping):\n",
    "        H = nx.MultiDiGraph()\n",
    "        H.add_nodes_from(mapping.get(n, n) for n in G)\n",
    "        H._node.update((mapping.get(n, n), d.copy()) for n, d in G.nodes.items())\n",
    "        if G.is_multigraph():\n",
    "            new_edges = [\n",
    "                (mapping.get(n1, n1), mapping.get(n2, n2), k, d.copy())\n",
    "                for (n1, n2, k, d) in G.edges(keys=True, data=True)\n",
    "            ]\n",
    "\n",
    "            # check for conflicting edge-keys\n",
    "            undirected = not G.is_directed()\n",
    "            seen_edges = set()\n",
    "            for i, (source, target, key, data) in enumerate(new_edges):\n",
    "                while (source, target, key) in seen_edges:\n",
    "                    if not isinstance(key, (int, float)):\n",
    "                        key = 0\n",
    "                    key += 1\n",
    "                seen_edges.add((source, target, key))\n",
    "                if undirected:\n",
    "                    seen_edges.add((target, source, key))\n",
    "                new_edges[i] = (source, target, key, data)\n",
    "\n",
    "            H.add_edges_from(new_edges)\n",
    "        else:\n",
    "            H.add_edges_from(\n",
    "                (mapping.get(n1, n1), mapping.get(n2, n2), d.copy())\n",
    "                for (n1, n2, d) in G.edges(data=True)\n",
    "            )\n",
    "        H.graph.update(G.graph)\n",
    "        return H\n",
    "    gnew=relabel_nodes(g,mapping)\n",
    "    g.__dict__.update(gnew.__dict__)\n",
    "    g.mapping=inverse_mapping\n",
    "    g.inverse_mapping=mapping"
   ]
  },
  {
   "cell_type": "code",
   "execution_count": null,
   "id": "measured-american",
   "metadata": {},
   "outputs": [
    {
     "name": "stdout",
     "output_type": "stream",
     "text": [
      "|Node|Predecessors|Successors|\n",
      "|0   |11          |          |\n",
      "|1   |8, 14       |13        |\n",
      "|2   |12, 13      |9         |\n",
      "|3   |            |4         |\n",
      "|4   |3           |5         |\n",
      "|5   |4           |6         |\n",
      "|6   |5           |7         |\n",
      "|7   |6           |8         |\n",
      "|8   |7           |1         |\n",
      "|9   |2           |10        |\n",
      "|10  |9           |11        |\n",
      "|11  |10          |12, 0     |\n",
      "|12  |11          |2         |\n",
      "|13  |1           |14, 2     |\n",
      "|14  |13          |1         |\n",
      "\n"
     ]
    }
   ],
   "source": [
    "relabel_graph(g)\n",
    "print_graph(g)"
   ]
  },
  {
   "cell_type": "code",
   "execution_count": null,
   "id": "spiritual-alcohol",
   "metadata": {},
   "outputs": [
    {
     "name": "stdout",
     "output_type": "stream",
     "text": [
      "|Node|Predecessors|Successors|\n",
      "|a   |b_3         |          |\n",
      "|c   |d_5, c_2    |c_1       |\n",
      "|b   |b_4, c_1    |b_1       |\n",
      "|d   |            |d_1       |\n",
      "|d_1 |d           |d_2       |\n",
      "|d_2 |d_1         |d_3       |\n",
      "|d_3 |d_2         |d_4       |\n",
      "|d_4 |d_3         |d_5       |\n",
      "|d_5 |d_4         |c         |\n",
      "|b_1 |b           |b_2       |\n",
      "|b_2 |b_1         |b_3       |\n",
      "|b_3 |b_2         |b_4, a    |\n",
      "|b_4 |b_3         |b         |\n",
      "|c_1 |c           |c_2, b    |\n",
      "|c_2 |c_1         |c         |\n",
      "\n"
     ]
    }
   ],
   "source": [
    "relabel_graph(g)\n",
    "print_graph(g)"
   ]
  },
  {
   "cell_type": "code",
   "execution_count": null,
   "id": "covered-console",
   "metadata": {},
   "outputs": [],
   "source": [
    "#export\n",
    "def sort_graph(g : nx.MultiDiGraph,\n",
    "               nodes_by='in_degree', #g.in_degree, #sorting this function over nodes\n",
    "               node_key=lambda t:sidis.get(t,-1,-1), #last element of sorting tuple\n",
    "               node_args=(), #not accessing any attributes by default\n",
    "               nodes_ascending=True,\n",
    "               edges_by=None, #not generating function evals to sort\n",
    "               edge_key=None,#orders edges, defaults to linear comb of node sort\n",
    "               edge_args=(), #not accessing any edge attrs by default\n",
    "               edges_ascending=False,\n",
    "               relabel=False #relabel to integers\n",
    "              ) -> None:\n",
    "    '''\n",
    "    Sort the graph in place by changing node and edge order.\n",
    "    See `sidis.sort` documentation for explanation of by, key, and args.\n",
    "    Default behavior is to sort nodes by in-degree, and edges by increasing node label,\n",
    "    after relabling nodes to integers. Stores result in 'sorting' attribute.\n",
    "    '''\n",
    "    #parse args; get node sorting attr if str\n",
    "    if type(nodes_by) is str:\n",
    "        nodes_by=sidis.get(g,nodes_by)\n",
    "    #if no edge key given default to ordering by linear comb of node func\n",
    "    if edge_key is None:\n",
    "        edge_key=lambda t:100*nodes_by(t[0])-10*nodes_by(t[1])\n",
    "    \n",
    "    #sort nodes\n",
    "    node_sorting=sidis.sort(g.nodes,\n",
    "                            *node_args,\n",
    "                            by=nodes_by,\n",
    "                            key=node_key,\n",
    "                            reverse=nodes_ascending)\n",
    "\n",
    "    #sort returns tuples of (node,nodes_by(node)), so extract nodes and data\n",
    "    if nodes_by is None:\n",
    "        nodes=[(n,g.nodes[n]) for n in node_sorting]\n",
    "    else:\n",
    "        nodes=[(n[0],g.nodes[n[0]]) for n in node_sorting]  \n",
    "    \n",
    "    #sort edges\n",
    "    edge_sorting=sidis.sort(list(g.edges(keys=True)),\n",
    "                            *edge_args,\n",
    "                            by=edges_by,\n",
    "                            key=edge_key,\n",
    "                            reverse=edges_ascending)\n",
    "    \n",
    "    #extract edge,data tuple\n",
    "    if edges_by is None:\n",
    "        edges=[(*e,g.edges[e]) for e in edge_sorting]\n",
    "    else:\n",
    "        edges=[(*e[0],g.edges[e[0]]) for e in edge_sorting]        \n",
    "    \n",
    "    #wipe graph and add new nodes/edges in order\n",
    "    g.clear()\n",
    "    g.add_nodes_from(nodes)\n",
    "    g.add_edges_from(edges)\n",
    "    \n",
    "    #relabel to new ranking if desired\n",
    "    if relabel:\n",
    "        mapping={n:i for i,n in enumerate([node[0] for node in nodes])}\n",
    "        relabel_graph(g,mapping)\n",
    "        new_node_sorting=[]\n",
    "        for node,rank in node_sorting:\n",
    "            new_node_sorting+=[(g.inverse_mapping[node],rank)]\n",
    "        node_sorting=new_node_sorting\n",
    "    \n",
    "    sorting=nx.utils.groups(dict(node_sorting))\n",
    "    g.sorting={k:list(v) for k,v in sorting.items()}             "
   ]
  },
  {
   "cell_type": "code",
   "execution_count": null,
   "id": "warming-diameter",
   "metadata": {},
   "outputs": [
    {
     "name": "stdout",
     "output_type": "stream",
     "text": [
      "Before\n",
      "|Node|Predecessors|Successors|\n",
      "|a   |b           |c         |\n",
      "|c   |a, c, d     |b, c      |\n",
      "|b   |b, c        |a, b      |\n",
      "|d   |            |c         |\n",
      "\n",
      "After sorting and relabeling\n",
      "|Node|Predecessors|Successors|\n",
      "|0   |0, 2, 3     |0, 1      |\n",
      "|1   |0, 1        |1, 2      |\n",
      "|2   |1           |0         |\n",
      "|3   |            |0         |\n",
      "\n",
      "Sorting result: g.sorting\n"
     ]
    },
    {
     "data": {
      "text/plain": [
       "{3: [0], 2: [1], 1: [2], 0: [3]}"
      ]
     },
     "execution_count": null,
     "metadata": {},
     "output_type": "execute_result"
    }
   ],
   "source": [
    "g=nx.MultiDiGraph()\n",
    "g.add_edges_from([('a','c'),('b','a'),('b','b'),('c','b'),('c','c'),('d','c')])\n",
    "print('Before')\n",
    "print_graph(g)\n",
    "print('After sorting and relabeling')\n",
    "sort_graph(g,relabel=True)\n",
    "print_graph(g)\n",
    "print('Sorting result: g.sorting')\n",
    "g.sorting"
   ]
  },
  {
   "cell_type": "code",
   "execution_count": null,
   "id": "equivalent-rental",
   "metadata": {},
   "outputs": [
    {
     "name": "stdout",
     "output_type": "stream",
     "text": [
      "Converted 00_graph_functions.ipynb.\n",
      "Converted 01_model_functions.ipynb.\n",
      "Converted 02_network_class.ipynb.\n",
      "Converted index.ipynb.\n",
      "No export destination, ignored:\n",
      "#export\n",
      "@njit\n",
      "def COPY(x : Union[int,float]) -> Union[int,float]:\n",
      "    '''\n",
      "    Simply returns `x`.\n",
      "    '''\n",
      "    return x\n",
      "@njit\n",
      "def MPX(x : Union[int,float]) -> Union[int,float]:\n",
      "    '''\n",
      "    Simply returns `x`.\n",
      "    '''\n",
      "    return x\n",
      "@njit\n",
      "def NOT(x : Union[int,float]) -> Union[int,float]:\n",
      "    '''\n",
      "    Return conjugate of `x`.\n",
      "    '''\n",
      "    return 1-x\n",
      "@njit\n",
      "def AND(x : Union[int,float],\n",
      "        y : Union[int,float]) -> Union[int,float]:\n",
      "    '''\n",
      "    Return logical AND of `x` and `y`.\n",
      "    '''\n",
      "    return x*y\n",
      "@njit\n",
      "def OR(x : Union[int,float],\n",
      "       y : Union[int,float]) -> Union[int,float]:\n",
      "    '''\n",
      "    Return logical OR of `x` and `y`. See DeMorgan's Laws.\n",
      "    '''\n",
      "    return x+y-x*y\n",
      "@njit\n",
      "def XOR2(x : Union[int,float],\n",
      "                 y : Union[int,float]) -> Union[int,float]:\n",
      "    '''\n",
      "    Return logical exclusive OR of `x` and `y`. See DeMorgan's Laws.\n",
      "    '''\n",
      "    return OR( AND( x , NOT(y) ) , AND ( NOT(x) , y) )\n",
      "#@sidis.timer\n",
      "@njit\n",
      "def XOR(args : Union[int,float,list,np.ndarray]) -> Union[int,float]:\n",
      "    '''\n",
      "    Arbitrary input XOR using recursiveness.\n",
      "    '''\n",
      "    x=0\n",
      "    for a in args:\n",
      "        x=XOR2(x,a)\n",
      "    return x\n",
      "\n",
      "@njit\n",
      "def UBOOL(x : np.ndarray,\n",
      "          mask : int = 0):\n",
      "    '''\n",
      "    'x': 2-D array containing list of list of args\n",
      "    for the boolean function defined by `mask`. \n",
      "    '''\n",
      "    y=np.zeros(x.shape[0],dtype=x.dtype)\n",
      "    if mask==0:\n",
      "        for i in range(x.shape[0]):\n",
      "            y[i]=XOR(x[i])\n",
      "    elif mask==1:\n",
      "        for i in range(x.shape[0]):\n",
      "            y[i]=MPX(x[i][0])\n",
      "    elif mask==2:\n",
      "        for i in range(x.shape[0]):\n",
      "            y[i]=NOT(x[i][0])\n",
      "    elif mask==3:\n",
      "        for i in range(x.shape[0]):\n",
      "            y[i]=COPY(x[i][0])\n",
      "    elif mask==4:\n",
      "        for i in range(x.shape[0]):\n",
      "            y[i]=OR(x[i][1],x[i][1])\n",
      "    elif mask==5:\n",
      "        for i in range(x.shape[0]):\n",
      "            y[i]=AND(x[i][1],x[i][1])\n",
      "    return y\n",
      "Warning: Exporting to \"None.py\" but this module is not part of this build\n"
     ]
    },
    {
     "ename": "FileNotFoundError",
     "evalue": "[Errno 2] No such file or directory: 'C:\\\\Users\\\\Noeloikeau Charlot\\\\Desktop\\\\Research\\\\networkm\\\\networkm\\\\None.py'",
     "output_type": "error",
     "traceback": [
      "\u001b[1;31m---------------------------------------------------------------------------\u001b[0m",
      "\u001b[1;31mFileNotFoundError\u001b[0m                         Traceback (most recent call last)",
      "\u001b[1;32m<ipython-input-52-2155445c27e0>\u001b[0m in \u001b[0;36m<module>\u001b[1;34m\u001b[0m\n\u001b[1;32m----> 1\u001b[1;33m \u001b[0mnotebook2script\u001b[0m\u001b[1;33m(\u001b[0m\u001b[1;33m)\u001b[0m\u001b[1;33m\u001b[0m\u001b[1;33m\u001b[0m\u001b[0m\n\u001b[0m",
      "\u001b[1;32mC:\\Anaconda3\\lib\\site-packages\\nbdev\\export.py\u001b[0m in \u001b[0;36mnotebook2script\u001b[1;34m(fname, silent, to_dict, bare, recursive)\u001b[0m\n\u001b[0;32m    421\u001b[0m     \u001b[0md\u001b[0m \u001b[1;33m=\u001b[0m \u001b[0mcollections\u001b[0m\u001b[1;33m.\u001b[0m\u001b[0mdefaultdict\u001b[0m\u001b[1;33m(\u001b[0m\u001b[0mlist\u001b[0m\u001b[1;33m)\u001b[0m \u001b[1;32mif\u001b[0m \u001b[0mto_dict\u001b[0m \u001b[1;32melse\u001b[0m \u001b[1;32mNone\u001b[0m\u001b[1;33m\u001b[0m\u001b[1;33m\u001b[0m\u001b[0m\n\u001b[0;32m    422\u001b[0m     \u001b[0mmodules\u001b[0m \u001b[1;33m=\u001b[0m \u001b[0mcreate_mod_files\u001b[0m\u001b[1;33m(\u001b[0m\u001b[0mfiles\u001b[0m\u001b[1;33m,\u001b[0m \u001b[0mto_dict\u001b[0m\u001b[1;33m,\u001b[0m \u001b[0mbare\u001b[0m\u001b[1;33m=\u001b[0m\u001b[0mbare\u001b[0m\u001b[1;33m)\u001b[0m\u001b[1;33m\u001b[0m\u001b[1;33m\u001b[0m\u001b[0m\n\u001b[1;32m--> 423\u001b[1;33m     \u001b[1;32mfor\u001b[0m \u001b[0mf\u001b[0m \u001b[1;32min\u001b[0m \u001b[0msorted\u001b[0m\u001b[1;33m(\u001b[0m\u001b[0mfiles\u001b[0m\u001b[1;33m)\u001b[0m\u001b[1;33m:\u001b[0m \u001b[0md\u001b[0m \u001b[1;33m=\u001b[0m \u001b[0m_notebook2script\u001b[0m\u001b[1;33m(\u001b[0m\u001b[0mf\u001b[0m\u001b[1;33m,\u001b[0m \u001b[0mmodules\u001b[0m\u001b[1;33m,\u001b[0m \u001b[0msilent\u001b[0m\u001b[1;33m=\u001b[0m\u001b[0msilent\u001b[0m\u001b[1;33m,\u001b[0m \u001b[0mto_dict\u001b[0m\u001b[1;33m=\u001b[0m\u001b[0md\u001b[0m\u001b[1;33m,\u001b[0m \u001b[0mbare\u001b[0m\u001b[1;33m=\u001b[0m\u001b[0mbare\u001b[0m\u001b[1;33m)\u001b[0m\u001b[1;33m\u001b[0m\u001b[1;33m\u001b[0m\u001b[0m\n\u001b[0m\u001b[0;32m    424\u001b[0m     \u001b[1;32mif\u001b[0m \u001b[0mto_dict\u001b[0m\u001b[1;33m:\u001b[0m \u001b[1;32mreturn\u001b[0m \u001b[0md\u001b[0m\u001b[1;33m\u001b[0m\u001b[1;33m\u001b[0m\u001b[0m\n\u001b[0;32m    425\u001b[0m     \u001b[1;32melse\u001b[0m\u001b[1;33m:\u001b[0m \u001b[0madd_init\u001b[0m\u001b[1;33m(\u001b[0m\u001b[0mConfig\u001b[0m\u001b[1;33m(\u001b[0m\u001b[1;33m)\u001b[0m\u001b[1;33m.\u001b[0m\u001b[0mpath\u001b[0m\u001b[1;33m(\u001b[0m\u001b[1;34m\"lib_path\"\u001b[0m\u001b[1;33m)\u001b[0m\u001b[1;33m)\u001b[0m\u001b[1;33m\u001b[0m\u001b[1;33m\u001b[0m\u001b[0m\n",
      "\u001b[1;32mC:\\Anaconda3\\lib\\site-packages\\nbdev\\export.py\u001b[0m in \u001b[0;36m_notebook2script\u001b[1;34m(fname, modules, silent, to_dict, bare)\u001b[0m\n\u001b[0;32m    352\u001b[0m         \u001b[0mcode\u001b[0m \u001b[1;33m=\u001b[0m \u001b[0m_from_future_import\u001b[0m\u001b[1;33m(\u001b[0m\u001b[0mfname_out\u001b[0m\u001b[1;33m,\u001b[0m \u001b[0mflags\u001b[0m\u001b[1;33m,\u001b[0m \u001b[0mcode\u001b[0m\u001b[1;33m,\u001b[0m \u001b[0mto_dict\u001b[0m\u001b[1;33m)\u001b[0m\u001b[1;33m\u001b[0m\u001b[1;33m\u001b[0m\u001b[0m\n\u001b[0;32m    353\u001b[0m         \u001b[1;32mif\u001b[0m \u001b[0ma\u001b[0m\u001b[1;33m:\u001b[0m\u001b[1;33m\u001b[0m\u001b[1;33m\u001b[0m\u001b[0m\n\u001b[1;32m--> 354\u001b[1;33m             \u001b[1;32mif\u001b[0m \u001b[0mto_dict\u001b[0m \u001b[1;32mis\u001b[0m \u001b[1;32mNone\u001b[0m\u001b[1;33m:\u001b[0m \u001b[0m_add2all\u001b[0m\u001b[1;33m(\u001b[0m\u001b[0mfname_out\u001b[0m\u001b[1;33m,\u001b[0m \u001b[1;33m[\u001b[0m\u001b[1;34mf\"'{f}'\"\u001b[0m \u001b[1;32mfor\u001b[0m \u001b[0mf\u001b[0m \u001b[1;32min\u001b[0m \u001b[0mnames\u001b[0m \u001b[1;32mif\u001b[0m \u001b[1;34m'.'\u001b[0m \u001b[1;32mnot\u001b[0m \u001b[1;32min\u001b[0m \u001b[0mf\u001b[0m \u001b[1;32mand\u001b[0m \u001b[0mlen\u001b[0m\u001b[1;33m(\u001b[0m\u001b[0mf\u001b[0m\u001b[1;33m)\u001b[0m \u001b[1;33m>\u001b[0m \u001b[1;36m0\u001b[0m\u001b[1;33m]\u001b[0m \u001b[1;33m+\u001b[0m \u001b[0mextra\u001b[0m\u001b[1;33m)\u001b[0m\u001b[1;33m\u001b[0m\u001b[1;33m\u001b[0m\u001b[0m\n\u001b[0m\u001b[0;32m    355\u001b[0m         \u001b[0mmod\u001b[0m\u001b[1;33m.\u001b[0m\u001b[0mindex\u001b[0m\u001b[1;33m.\u001b[0m\u001b[0mupdate\u001b[0m\u001b[1;33m(\u001b[0m\u001b[1;33m{\u001b[0m\u001b[0mf\u001b[0m\u001b[1;33m:\u001b[0m \u001b[0mfname\u001b[0m\u001b[1;33m.\u001b[0m\u001b[0mname\u001b[0m \u001b[1;32mfor\u001b[0m \u001b[0mf\u001b[0m \u001b[1;32min\u001b[0m \u001b[0mnames\u001b[0m\u001b[1;33m}\u001b[0m\u001b[1;33m)\u001b[0m\u001b[1;33m\u001b[0m\u001b[1;33m\u001b[0m\u001b[0m\n\u001b[0;32m    356\u001b[0m         \u001b[0mcode\u001b[0m \u001b[1;33m=\u001b[0m \u001b[0mre\u001b[0m\u001b[1;33m.\u001b[0m\u001b[0msub\u001b[0m\u001b[1;33m(\u001b[0m\u001b[1;34mr' +$'\u001b[0m\u001b[1;33m,\u001b[0m \u001b[1;34m''\u001b[0m\u001b[1;33m,\u001b[0m \u001b[0mcode\u001b[0m\u001b[1;33m,\u001b[0m \u001b[0mflags\u001b[0m\u001b[1;33m=\u001b[0m\u001b[0mre\u001b[0m\u001b[1;33m.\u001b[0m\u001b[0mMULTILINE\u001b[0m\u001b[1;33m)\u001b[0m\u001b[1;33m\u001b[0m\u001b[1;33m\u001b[0m\u001b[0m\n",
      "\u001b[1;32mC:\\Anaconda3\\lib\\site-packages\\nbdev\\export.py\u001b[0m in \u001b[0;36m_add2all\u001b[1;34m(fname, names, line_width)\u001b[0m\n\u001b[0;32m    204\u001b[0m \u001b[1;32mdef\u001b[0m \u001b[0m_add2all\u001b[0m\u001b[1;33m(\u001b[0m\u001b[0mfname\u001b[0m\u001b[1;33m,\u001b[0m \u001b[0mnames\u001b[0m\u001b[1;33m,\u001b[0m \u001b[0mline_width\u001b[0m\u001b[1;33m=\u001b[0m\u001b[1;36m120\u001b[0m\u001b[1;33m)\u001b[0m\u001b[1;33m:\u001b[0m\u001b[1;33m\u001b[0m\u001b[1;33m\u001b[0m\u001b[0m\n\u001b[0;32m    205\u001b[0m     \u001b[1;32mif\u001b[0m \u001b[0mlen\u001b[0m\u001b[1;33m(\u001b[0m\u001b[0mnames\u001b[0m\u001b[1;33m)\u001b[0m \u001b[1;33m==\u001b[0m \u001b[1;36m0\u001b[0m\u001b[1;33m:\u001b[0m \u001b[1;32mreturn\u001b[0m\u001b[1;33m\u001b[0m\u001b[1;33m\u001b[0m\u001b[0m\n\u001b[1;32m--> 206\u001b[1;33m     \u001b[1;32mwith\u001b[0m \u001b[0mopen\u001b[0m\u001b[1;33m(\u001b[0m\u001b[0mfname\u001b[0m\u001b[1;33m,\u001b[0m \u001b[1;34m'r'\u001b[0m\u001b[1;33m,\u001b[0m \u001b[0mencoding\u001b[0m\u001b[1;33m=\u001b[0m\u001b[1;34m'utf8'\u001b[0m\u001b[1;33m)\u001b[0m \u001b[1;32mas\u001b[0m \u001b[0mf\u001b[0m\u001b[1;33m:\u001b[0m \u001b[0mtext\u001b[0m \u001b[1;33m=\u001b[0m \u001b[0mf\u001b[0m\u001b[1;33m.\u001b[0m\u001b[0mread\u001b[0m\u001b[1;33m(\u001b[0m\u001b[1;33m)\u001b[0m\u001b[1;33m\u001b[0m\u001b[1;33m\u001b[0m\u001b[0m\n\u001b[0m\u001b[0;32m    207\u001b[0m     \u001b[0mtw\u001b[0m \u001b[1;33m=\u001b[0m \u001b[0mTextWrapper\u001b[0m\u001b[1;33m(\u001b[0m\u001b[0mwidth\u001b[0m\u001b[1;33m=\u001b[0m\u001b[1;36m120\u001b[0m\u001b[1;33m,\u001b[0m \u001b[0minitial_indent\u001b[0m\u001b[1;33m=\u001b[0m\u001b[1;34m''\u001b[0m\u001b[1;33m,\u001b[0m \u001b[0msubsequent_indent\u001b[0m\u001b[1;33m=\u001b[0m\u001b[1;34m' '\u001b[0m\u001b[1;33m*\u001b[0m\u001b[1;36m11\u001b[0m\u001b[1;33m,\u001b[0m \u001b[0mbreak_long_words\u001b[0m\u001b[1;33m=\u001b[0m\u001b[1;32mFalse\u001b[0m\u001b[1;33m)\u001b[0m\u001b[1;33m\u001b[0m\u001b[1;33m\u001b[0m\u001b[0m\n\u001b[0;32m    208\u001b[0m     \u001b[0mre_all\u001b[0m \u001b[1;33m=\u001b[0m \u001b[0m_re__all__def\u001b[0m\u001b[1;33m.\u001b[0m\u001b[0msearch\u001b[0m\u001b[1;33m(\u001b[0m\u001b[0mtext\u001b[0m\u001b[1;33m)\u001b[0m\u001b[1;33m\u001b[0m\u001b[1;33m\u001b[0m\u001b[0m\n",
      "\u001b[1;31mFileNotFoundError\u001b[0m: [Errno 2] No such file or directory: 'C:\\\\Users\\\\Noeloikeau Charlot\\\\Desktop\\\\Research\\\\networkm\\\\networkm\\\\None.py'"
     ]
    }
   ],
   "source": [
    "notebook2script()"
   ]
  },
  {
   "cell_type": "code",
   "execution_count": null,
   "id": "burning-beast",
   "metadata": {},
   "outputs": [],
   "source": []
  }
 ],
 "metadata": {
  "kernelspec": {
   "display_name": "Python 3",
   "language": "python",
   "name": "python3"
  }
 },
 "nbformat": 4,
 "nbformat_minor": 5
}
