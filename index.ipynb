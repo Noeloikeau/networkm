{
 "cells": [
  {
   "cell_type": "code",
   "execution_count": null,
   "metadata": {},
   "outputs": [
    {
     "name": "stdout",
     "output_type": "stream",
     "text": [
      "Warming up integrator; future calls will be accelerated.\n"
     ]
    }
   ],
   "source": [
    "#hide\n",
    "import networkm\n",
    "from networkm import *"
   ]
  },
  {
   "cell_type": "markdown",
   "metadata": {},
   "source": [
    "# networkm\n",
    "\n",
    "> Network Models based on networkx MultiDiGraph objects endowed with dynamics, based on `networkx`. `Graph Functions` contains various manipulation tools for networkx MultiDiGraphs. `Model Functions` contains methods of simulating these graphs as coupled, time-delayed differential equations with noise, with current support for Boolean functions / Boolean networks. `Network Class` contains the culmination of these functions in a single `BooleanNetwork` class object for pipelined analysis. Accelerated with `numba`. "
   ]
  },
  {
   "cell_type": "markdown",
   "metadata": {},
   "source": [
    "## Install"
   ]
  },
  {
   "cell_type": "markdown",
   "metadata": {},
   "source": [
    "`pip install networkm`"
   ]
  },
  {
   "cell_type": "markdown",
   "metadata": {},
   "source": [
    "## How to use"
   ]
  },
  {
   "cell_type": "markdown",
   "metadata": {},
   "source": [
    "Check out the other pages for detailed examples; here we showcase two example `BooleanNetworks`. Any Boolean Network has dynamics of the form\n",
    "\n",
    "    tau*dxdt=-x(t)+f(y(t-d))+noise\n",
    "\n",
    "where tau is a time-constant, f is a logical function, y are the nodes flowing into node x after some time-delay d, and the noise term is random."
   ]
  },
  {
   "cell_type": "markdown",
   "metadata": {},
   "source": [
    "To start, we consider a simple example knwon as a Repressilator https://en.wikipedia.org/wiki/Repressilator, with real-world implications in e.g gene-regulatory networks.\n",
    "\n",
    "The repressilator is a ring of 3 nodes which connect to their left neighbor and cyclically invert eachother."
   ]
  },
  {
   "cell_type": "code",
   "execution_count": null,
   "metadata": {},
   "outputs": [],
   "source": [
    "g=ring(N=3,left=True,right=False,loop=False)\n",
    "print_graph(g)"
   ]
  },
  {
   "cell_type": "markdown",
   "metadata": {},
   "source": [
    "We model this with the simplest case, as follows. We give each node the NOT function. This function is executed differentially with a time-constant of 1. The node receives its neighbors state instantly; we put no explicit time-delays along edges, and include no noise. We initialize one node to 1, and hold all nodes at their steady-state value from this configuration for the default value of one time-constant. Then they are released and have the following dynamics:"
   ]
  },
  {
   "cell_type": "code",
   "execution_count": null,
   "metadata": {},
   "outputs": [],
   "source": [
    "m=BooleanNetwork(g=ring(N=3,left=True,right=False,loop=False),\n",
    "                 f=NOT,\n",
    "                 tau=1,\n",
    "                 delay=0,\n",
    "                 noise=0, \n",
    "                 a=np.inf, #this makes the derivative integer-valued; see `sigmoid` function\n",
    "                 init=[1,0,0],\n",
    "                 hold=None,\n",
    "                 edge_replacements=None,\n",
    "                 T=15,\n",
    "                 dt=0.01,\n",
    "                 plot=True\n",
    "                )"
   ]
  },
  {
   "cell_type": "code",
   "execution_count": null,
   "metadata": {},
   "outputs": [],
   "source": [
    "m"
   ]
  },
  {
   "cell_type": "markdown",
   "metadata": {},
   "source": [
    "For a more complex example we consider a \"Hybrid Boolean Network\" composed of a multiplexer - which forces inital conditions using a clock - connected to a chaotic ring network, which executes the XOR function. This has real-world implications in e.g cryptography and physically unclonable functions (PUF) as an HBN-PUF - see https://ieeexplore.ieee.org/document/9380284.\n",
    "\n",
    "More explicitly, we consider a 16-node ring where each node executes the 3-input XOR function on itself and its two neighbors. We include noise, time-delays, different rise/fall times for tau, and replace each node with itself + a multiplexer that sets the initial condition and copies the state thereafter, with its own set of dynamical constants."
   ]
  },
  {
   "cell_type": "code",
   "execution_count": null,
   "metadata": {},
   "outputs": [],
   "source": [
    "m=BooleanNetwork(g = ring(N=16,right=True,left=True,loop=True),\n",
    "\n",
    "          a = (rng.normal,15,5),\n",
    "          tau = (rng.normal,[0.5,0.4],[0.1,0.05]),\n",
    "          f = XOR,\n",
    "          \n",
    "\n",
    "          delay = (rng.normal,1,0.1),\n",
    "\n",
    "          edge_replacements = dict(\n",
    "              lengths = 1,\n",
    "              delay = (rng.normal,0.5,0.1),\n",
    "              node_attrs = dict(\n",
    "                  a = (rng.normal,15,5),\n",
    "                  tau = (rng.normal,[0.2,0.15],[0.05,0.05]),\n",
    "                  f = MPX\n",
    "              ),\n",
    "              label = lambda g,node,iterable : len(g)+iterable\n",
    "          ),\n",
    "\n",
    "          T = 15,\n",
    "          dt = 0.01,\n",
    "          noise = 0.01,\n",
    "          init = None,\n",
    "          hold = None,\n",
    "          \n",
    "          plot=True,\n",
    "          view='in'\n",
    "         )"
   ]
  },
  {
   "cell_type": "code",
   "execution_count": null,
   "metadata": {},
   "outputs": [],
   "source": [
    "m"
   ]
  },
  {
   "cell_type": "code",
   "execution_count": null,
   "metadata": {},
   "outputs": [],
   "source": [
    "sidis.refresh()"
   ]
  }
 ],
 "metadata": {
  "kernelspec": {
   "display_name": "Python 3",
   "language": "python",
   "name": "python3"
  }
 },
 "nbformat": 4,
 "nbformat_minor": 4
}
